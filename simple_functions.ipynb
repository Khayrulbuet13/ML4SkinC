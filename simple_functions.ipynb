{
 "cells": [
  {
   "cell_type": "markdown",
   "metadata": {},
   "source": [
    "# calculate mean and std"
   ]
  },
  {
   "cell_type": "code",
   "execution_count": 2,
   "metadata": {},
   "outputs": [
    {
     "name": "stdout",
     "output_type": "stream",
     "text": [
      "Calculated Mean: tensor([0.6984, 0.5219, 0.4197])\n",
      "Calculated Std Deviation: tensor([0.1396, 0.1318, 0.1236])\n"
     ]
    }
   ],
   "source": [
    "import os\n",
    "import torch\n",
    "from torchvision import transforms\n",
    "from torch.utils.data import DataLoader, Dataset\n",
    "from PIL import Image\n",
    "\n",
    "class SimpleImageLoader(Dataset):\n",
    "    def __init__(self, folder_path, transform=None):\n",
    "        self.image_files = [os.path.join(folder_path, file) for file in os.listdir(folder_path) if file.endswith(('png', 'jpg', 'jpeg'))]\n",
    "        self.transform = transform\n",
    "    \n",
    "    def __len__(self):\n",
    "        return len(self.image_files)\n",
    "    \n",
    "    def __getitem__(self, index):\n",
    "        img_path = self.image_files[index]\n",
    "        image = Image.open(img_path).convert('RGB')\n",
    "        if self.transform:\n",
    "            image = self.transform(image)\n",
    "        return image\n",
    "\n",
    "def compute_mean_std(loader):\n",
    "    channel_sum, channel_sq_sum, num_batches = 0, 0, 0\n",
    "    \n",
    "    for images in loader:\n",
    "        images = images.view(images.size(0), images.size(1), -1)\n",
    "        channel_sum += torch.mean(images, dim=[0, 2])\n",
    "        channel_sq_sum += torch.mean(images ** 2, dim=[0, 2])\n",
    "        num_batches += 1\n",
    "\n",
    "    mean = channel_sum / num_batches\n",
    "    std = (channel_sq_sum / num_batches - mean ** 2) ** 0.5\n",
    "    return mean, std\n",
    "\n",
    "# Define the transformations\n",
    "transform = transforms.Compose([\n",
    "    transforms.Resize((256, 256)),\n",
    "    transforms.ToTensor()\n",
    "])\n",
    "\n",
    "# Create the dataset\n",
    "dataset = SimpleImageLoader('dataset/train', transform=transform)\n",
    "loader = DataLoader(dataset, batch_size=10, num_workers=0, shuffle=False)\n",
    "\n",
    "# Calculate mean and std deviation\n",
    "mean, std = compute_mean_std(loader)\n",
    "print(f\"Calculated Mean: {mean}\")\n",
    "print(f\"Calculated Std Deviation: {std}\")\n",
    "\n"
   ]
  },
  {
   "cell_type": "code",
   "execution_count": 3,
   "metadata": {},
   "outputs": [
    {
     "name": "stdout",
     "output_type": "stream",
     "text": [
      "Calculated Mean: tensor([0.6982, 0.5217, 0.4194])\n",
      "Calculated Std Deviation: tensor([0.1395, 0.1320, 0.1239])\n"
     ]
    }
   ],
   "source": [
    "# Create the dataset\n",
    "dataset = SimpleImageLoader('dataset/val', transform=transform)\n",
    "loader = DataLoader(dataset, batch_size=10, num_workers=0, shuffle=False)\n",
    "\n",
    "# Calculate mean and std deviation\n",
    "mean, std = compute_mean_std(loader)\n",
    "print(f\"Calculated Mean: {mean}\")\n",
    "print(f\"Calculated Std Deviation: {std}\")"
   ]
  },
  {
   "cell_type": "code",
   "execution_count": null,
   "metadata": {},
   "outputs": [],
   "source": []
  },
  {
   "cell_type": "markdown",
   "metadata": {},
   "source": [
    "# use least used gpu"
   ]
  },
  {
   "cell_type": "code",
   "execution_count": 4,
   "metadata": {},
   "outputs": [
    {
     "name": "stdout",
     "output_type": "stream",
     "text": [
      "Using GPU: 2\n"
     ]
    }
   ],
   "source": [
    "import subprocess\n",
    "import os\n",
    "\n",
    "def get_least_used_gpu():\n",
    "    # Command to get GPU usage (memory and compute)\n",
    "    smi_output = subprocess.check_output(['nvidia-smi', '--query-gpu=memory.used,utilization.gpu', '--format=csv,noheader,nounits']).decode()\n",
    "\n",
    "    # Parse the output to get a list of (memory used, gpu utilization) tuples\n",
    "    gpu_stats = [tuple(map(int, line.split(', '))) for line in smi_output.strip().split('\\n')]\n",
    "    \n",
    "    # Calculate a simple score by adding memory usage and GPU utilization (you can customize this)\n",
    "    usage_scores = [memory + utilization for memory, utilization in gpu_stats]\n",
    "\n",
    "    # Get the index of the GPU with the lowest score\n",
    "    least_used_gpu = usage_scores.index(min(usage_scores))\n",
    "    return least_used_gpu\n",
    "\n",
    "# Set the least used GPU as visible\n",
    "least_used_gpu = get_least_used_gpu()\n",
    "os.environ['CUDA_VISIBLE_DEVICES'] = str(least_used_gpu)\n",
    "print(\"Using GPU:\", least_used_gpu)\n"
   ]
  },
  {
   "cell_type": "code",
   "execution_count": null,
   "metadata": {},
   "outputs": [],
   "source": []
  },
  {
   "cell_type": "markdown",
   "metadata": {},
   "source": [
    "# Nan handling\n"
   ]
  },
  {
   "cell_type": "code",
   "execution_count": 5,
   "metadata": {},
   "outputs": [
    {
     "name": "stderr",
     "output_type": "stream",
     "text": [
      "/tmp/ipykernel_68766/2137989671.py:5: DtypeWarning: Columns (51,52) have mixed types. Specify dtype option on import or set low_memory=False.\n",
      "  df = pd.read_csv(file_path)\n"
     ]
    },
    {
     "name": "stdout",
     "output_type": "stream",
     "text": [
      "Summary of NaN values in each column:\n",
      "isic_id                              0\n",
      "target                               0\n",
      "patient_id                           0\n",
      "age_approx                           0\n",
      "sex                              11517\n",
      "anatom_site_general               5756\n",
      "clin_size_long_diam_mm               0\n",
      "image_type                           0\n",
      "tbp_tile_type                        0\n",
      "tbp_lv_A                             0\n",
      "tbp_lv_Aext                          0\n",
      "tbp_lv_B                             0\n",
      "tbp_lv_Bext                          0\n",
      "tbp_lv_C                             0\n",
      "tbp_lv_Cext                          0\n",
      "tbp_lv_H                             0\n",
      "tbp_lv_Hext                          0\n",
      "tbp_lv_L                             0\n",
      "tbp_lv_Lext                          0\n",
      "tbp_lv_areaMM2                       0\n",
      "tbp_lv_area_perim_ratio              0\n",
      "tbp_lv_color_std_mean                0\n",
      "tbp_lv_deltaA                        0\n",
      "tbp_lv_deltaB                        0\n",
      "tbp_lv_deltaL                        0\n",
      "tbp_lv_deltaLB                       0\n",
      "tbp_lv_deltaLBnorm                   0\n",
      "tbp_lv_eccentricity                  0\n",
      "tbp_lv_location                      0\n",
      "tbp_lv_location_simple               0\n",
      "tbp_lv_minorAxisMM                   0\n",
      "tbp_lv_nevi_confidence               0\n",
      "tbp_lv_norm_border                   0\n",
      "tbp_lv_norm_color                    0\n",
      "tbp_lv_perimeterMM                   0\n",
      "tbp_lv_radial_color_std_max          0\n",
      "tbp_lv_stdL                          0\n",
      "tbp_lv_stdLExt                       0\n",
      "tbp_lv_symm_2axis                    0\n",
      "tbp_lv_symm_2axis_angle              0\n",
      "tbp_lv_x                             0\n",
      "tbp_lv_y                             0\n",
      "tbp_lv_z                             0\n",
      "attribution                          0\n",
      "copyright_license                    0\n",
      "lesion_id                       379001\n",
      "iddx_full                            0\n",
      "iddx_1                               0\n",
      "iddx_2                          399991\n",
      "iddx_3                          399994\n",
      "iddx_4                          400508\n",
      "iddx_5                          401058\n",
      "mel_mitotic_index               401006\n",
      "mel_thick_mm                    400996\n",
      "tbp_lv_dnn_lesion_confidence         0\n",
      "dtype: int64\n"
     ]
    }
   ],
   "source": [
    "import pandas as pd\n",
    "\n",
    "# Load the CSV file\n",
    "file_path = 'dataset/train-metadata_age_fixed.csv'  # Replace with your file path\n",
    "df = pd.read_csv(file_path)\n",
    "\n",
    "# Get the summary of NaN values\n",
    "nan_summary = df.isna().sum()\n",
    "\n",
    "# Display the summary\n",
    "print(\"Summary of NaN values in each column:\")\n",
    "print(nan_summary)\n"
   ]
  },
  {
   "cell_type": "code",
   "execution_count": 4,
   "metadata": {},
   "outputs": [],
   "source": [
    "# Replace NaN values in the 'age' column with the mean of the 'age' column\n",
    "df['age_approx'] = df['age_approx'].fillna(df['age_approx'].mean())\n",
    "\n",
    "# Save the modified DataFrame to a new CSV file\n",
    "output_file_path = 'dataset/train-metadata_age_fixed.csv'  # Replace with your desired output file path\n",
    "df.to_csv(output_file_path, index=False)"
   ]
  },
  {
   "cell_type": "code",
   "execution_count": null,
   "metadata": {},
   "outputs": [],
   "source": []
  }
 ],
 "metadata": {
  "kernelspec": {
   "display_name": "skin",
   "language": "python",
   "name": "python3"
  },
  "language_info": {
   "codemirror_mode": {
    "name": "ipython",
    "version": 3
   },
   "file_extension": ".py",
   "mimetype": "text/x-python",
   "name": "python",
   "nbconvert_exporter": "python",
   "pygments_lexer": "ipython3",
   "version": "3.10.12"
  }
 },
 "nbformat": 4,
 "nbformat_minor": 2
}
