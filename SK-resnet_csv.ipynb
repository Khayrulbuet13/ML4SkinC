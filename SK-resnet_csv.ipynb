{
 "cells": [
  {
   "cell_type": "markdown",
   "id": "d5f9a3c4",
   "metadata": {
    "papermill": {
     "duration": 0.013556,
     "end_time": "2024-08-20T17:27:22.367262",
     "exception": false,
     "start_time": "2024-08-20T17:27:22.353706",
     "status": "completed"
    },
    "tags": []
   },
   "source": [
    "![Skin cancer](http://www.cdc.gov/skin-cancer/media/images/skin-illustration-16x9-1.jpg)"
   ]
  },
  {
   "cell_type": "code",
   "execution_count": 1,
   "id": "369efcee",
   "metadata": {},
   "outputs": [],
   "source": [
    "kaggle = False"
   ]
  },
  {
   "cell_type": "code",
   "execution_count": 2,
   "id": "9dbed8a5",
   "metadata": {
    "execution": {
     "iopub.execute_input": "2024-08-20T17:27:22.394725Z",
     "iopub.status.busy": "2024-08-20T17:27:22.394372Z",
     "iopub.status.idle": "2024-08-20T17:27:28.445020Z",
     "shell.execute_reply": "2024-08-20T17:27:28.444178Z"
    },
    "papermill": {
     "duration": 6.067004,
     "end_time": "2024-08-20T17:27:28.447365",
     "exception": false,
     "start_time": "2024-08-20T17:27:22.380361",
     "status": "completed"
    },
    "tags": []
   },
   "outputs": [
    {
     "name": "stderr",
     "output_type": "stream",
     "text": [
      "/home/mdi220/.virtualenvs/skin/lib/python3.10/site-packages/tqdm/auto.py:21: TqdmWarning: IProgress not found. Please update jupyter and ipywidgets. See https://ipywidgets.readthedocs.io/en/stable/user_install.html\n",
      "  from .autonotebook import tqdm as notebook_tqdm\n"
     ]
    }
   ],
   "source": [
    "import os\n",
    "from pathlib import Path\n",
    "\n",
    "import numpy as np\n",
    "import pandas as pd\n",
    "import polars as pl\n",
    "\n",
    "from sklearn.model_selection import StratifiedGroupKFold\n",
    "from sklearn.model_selection import cross_val_score\n",
    "from sklearn.preprocessing import OneHotEncoder\n",
    "from sklearn.metrics import roc_auc_score\n",
    "from sklearn.ensemble import VotingClassifier\n",
    "\n",
    "from imblearn.under_sampling import RandomUnderSampler\n",
    "from imblearn.pipeline import Pipeline\n",
    "from imblearn.over_sampling import RandomOverSampler\n",
    "\n",
    "\n",
    "import lightgbm as lgb\n",
    "import catboost as cb\n",
    "import xgboost as xgb\n",
    "\n",
    "import optuna\n",
    "from optuna.samplers import TPESampler\n",
    "\n",
    "#downsampling techniques\n",
    "# they took long time, so we use RandomUnderSampler\n",
    "from imblearn.under_sampling import NearMiss\n",
    "from imblearn.under_sampling import ClusterCentroids\n",
    "from imblearn.under_sampling import TomekLinks\n",
    "from imblearn.under_sampling import EditedNearestNeighbours\n",
    "from imblearn.pipeline import Pipeline as ImbPipeline\n",
    "from imblearn.under_sampling import NearMiss, TomekLinks\n",
    "from sklearn.impute import SimpleImputer\n",
    "\n",
    "import time\n",
    "from sklearn.feature_selection import SelectKBest, chi2, mutual_info_classif, VarianceThreshold\n",
    "\n",
    "\n"
   ]
  },
  {
   "cell_type": "code",
   "execution_count": 3,
   "id": "627c8b3f",
   "metadata": {
    "execution": {
     "iopub.execute_input": "2024-08-20T17:27:28.475892Z",
     "iopub.status.busy": "2024-08-20T17:27:28.475258Z",
     "iopub.status.idle": "2024-08-20T17:27:28.484602Z",
     "shell.execute_reply": "2024-08-20T17:27:28.483811Z"
    },
    "papermill": {
     "duration": 0.025467,
     "end_time": "2024-08-20T17:27:28.486529",
     "exception": false,
     "start_time": "2024-08-20T17:27:28.461062",
     "status": "completed"
    },
    "tags": []
   },
   "outputs": [],
   "source": [
    "import os\n",
    "import gc\n",
    "import time\n",
    "import copy\n",
    "import optuna\n",
    "\n",
    "from pathlib import Path\n",
    "\n",
    "import numpy as np, pandas as pd, polars as pl\n",
    "\n",
    "from sklearn.model_selection import GroupKFold\n",
    "from sklearn.model_selection import StratifiedGroupKFold\n",
    "from sklearn.model_selection import cross_val_score\n",
    "from sklearn.preprocessing import OneHotEncoder\n",
    "from sklearn.metrics import roc_auc_score\n",
    "from sklearn.metrics import mean_squared_error\n",
    "from sklearn.ensemble import VotingClassifier\n",
    "\n",
    "from sklearn.utils import resample\n",
    "\n",
    "from imblearn.under_sampling import RandomUnderSampler\n",
    "from imblearn.pipeline import Pipeline\n",
    "from imblearn.over_sampling import RandomOverSampler\n",
    "\n",
    "import lightgbm as lgb, catboost as cb, xgboost as xgb\n",
    "\n",
    "from optuna.samplers import TPESampler\n",
    "\n",
    "from imblearn.under_sampling import NearMiss\n",
    "from imblearn.under_sampling import ClusterCentroids\n",
    "from imblearn.under_sampling import TomekLinks\n",
    "from imblearn.under_sampling import EditedNearestNeighbours\n",
    "# from imblearn.pipeline import Pipeline as ImbPipeline\n",
    "from imblearn.under_sampling import NearMiss, TomekLinks\n",
    "from sklearn.impute import SimpleImputer\n",
    "from sklearn.feature_selection import SelectKBest, chi2, mutual_info_classif, VarianceThreshold\n",
    "from sklearn.base import BaseEstimator, TransformerMixin"
   ]
  },
  {
   "cell_type": "markdown",
   "id": "eddeb863",
   "metadata": {
    "papermill": {
     "duration": 0.01295,
     "end_time": "2024-08-20T17:27:28.513677",
     "exception": false,
     "start_time": "2024-08-20T17:27:28.500727",
     "status": "completed"
    },
    "tags": []
   },
   "source": [
    "# IMAGE PREDICTIONS"
   ]
  },
  {
   "cell_type": "code",
   "execution_count": 4,
   "id": "76e4a95d",
   "metadata": {
    "execution": {
     "iopub.execute_input": "2024-08-20T17:27:28.541662Z",
     "iopub.status.busy": "2024-08-20T17:27:28.540832Z",
     "iopub.status.idle": "2024-08-20T17:27:42.035216Z",
     "shell.execute_reply": "2024-08-20T17:27:42.034051Z"
    },
    "papermill": {
     "duration": 13.510939,
     "end_time": "2024-08-20T17:27:42.037665",
     "exception": false,
     "start_time": "2024-08-20T17:27:28.526726",
     "status": "completed"
    },
    "tags": []
   },
   "outputs": [],
   "source": [
    "# #EFFNET V1B0\n",
    "# !python /kaggle/input/isic-script-inference-effnetv1b0-f313ae/main.py /kaggle/input/isic-pytorch-training-baseline-image-only/AUROC0.5171_Loss0.3476_epoch35.bin\n",
    "# !mv submission.csv submission_effnetv1b0.csv"
   ]
  },
  {
   "cell_type": "code",
   "execution_count": 5,
   "id": "f6f2b722",
   "metadata": {
    "execution": {
     "iopub.execute_input": "2024-08-20T17:27:42.067217Z",
     "iopub.status.busy": "2024-08-20T17:27:42.066294Z",
     "iopub.status.idle": "2024-08-20T17:28:03.267393Z",
     "shell.execute_reply": "2024-08-20T17:28:03.266015Z"
    },
    "papermill": {
     "duration": 21.218278,
     "end_time": "2024-08-20T17:28:03.269991",
     "exception": false,
     "start_time": "2024-08-20T17:27:42.051713",
     "status": "completed"
    },
    "tags": []
   },
   "outputs": [],
   "source": [
    "# #TARGET 3\n",
    "# !python /kaggle/input/isic-2024-pl-submission-script-and-preds/pl_submission.py\n",
    "# !mv submission.csv submission_image3.csv"
   ]
  },
  {
   "cell_type": "code",
   "execution_count": 6,
   "id": "b84c332a",
   "metadata": {
    "execution": {
     "iopub.execute_input": "2024-08-20T17:28:03.299610Z",
     "iopub.status.busy": "2024-08-20T17:28:03.299225Z",
     "iopub.status.idle": "2024-08-20T17:28:13.768175Z",
     "shell.execute_reply": "2024-08-20T17:28:13.766994Z"
    },
    "papermill": {
     "duration": 10.486447,
     "end_time": "2024-08-20T17:28:13.770667",
     "exception": false,
     "start_time": "2024-08-20T17:28:03.284220",
     "status": "completed"
    },
    "tags": []
   },
   "outputs": [],
   "source": [
    "# #EVA02\n",
    "# !python /kaggle/input/isic-script-inference-eva02/main.py /kaggle/input/isic-pytorch-training-baseline-eva02/AUROC0.5177_Loss0.2829_epoch7.bin\n",
    "# !mv submission.csv submission_eva02.csv"
   ]
  },
  {
   "cell_type": "code",
   "execution_count": 7,
   "id": "1c67d6d1",
   "metadata": {
    "execution": {
     "iopub.execute_input": "2024-08-20T17:28:13.800782Z",
     "iopub.status.busy": "2024-08-20T17:28:13.800382Z",
     "iopub.status.idle": "2024-08-20T17:28:24.605525Z",
     "shell.execute_reply": "2024-08-20T17:28:24.604132Z"
    },
    "papermill": {
     "duration": 10.823305,
     "end_time": "2024-08-20T17:28:24.608340",
     "exception": false,
     "start_time": "2024-08-20T17:28:13.785035",
     "status": "completed"
    },
    "tags": []
   },
   "outputs": [],
   "source": [
    "# #EDGENEXT\n",
    "# !python /kaggle/input/isic-script-inference-edgenext/main.py /kaggle/input/isic-pytorch-training-edgenext/Final_model.bin\n",
    "# !mv submission.csv submission_edgenext.csv"
   ]
  },
  {
   "cell_type": "code",
   "execution_count": 8,
   "id": "a25f75d5",
   "metadata": {},
   "outputs": [
    {
     "name": "stdout",
     "output_type": "stream",
     "text": [
      "mv: cannot stat 'submission.csv': No such file or directory\n"
     ]
    }
   ],
   "source": [
    "#Resnet18\n",
    "# !python resnet_predict.py 'checkpoint/18 August 12:23-resnet18-x128-kl_lambda0.4.pt'\n",
    "!mv submission.csv submission_resnet.csv"
   ]
  },
  {
   "cell_type": "markdown",
   "id": "c3c804ab",
   "metadata": {
    "papermill": {
     "duration": 0.014045,
     "end_time": "2024-08-20T17:28:24.637159",
     "exception": false,
     "start_time": "2024-08-20T17:28:24.623114",
     "status": "completed"
    },
    "tags": []
   },
   "source": [
    "# DATA PREPROCESS"
   ]
  },
  {
   "cell_type": "code",
   "execution_count": 9,
   "id": "f2a5ac02",
   "metadata": {
    "execution": {
     "iopub.execute_input": "2024-08-20T17:28:24.669294Z",
     "iopub.status.busy": "2024-08-20T17:28:24.668879Z",
     "iopub.status.idle": "2024-08-20T17:28:24.686438Z",
     "shell.execute_reply": "2024-08-20T17:28:24.685447Z"
    },
    "papermill": {
     "duration": 0.036229,
     "end_time": "2024-08-20T17:28:24.688380",
     "exception": false,
     "start_time": "2024-08-20T17:28:24.652151",
     "status": "completed"
    },
    "tags": []
   },
   "outputs": [],
   "source": [
    "if kaggle:\n",
    "    root = Path('/kaggle/input/isic-2024-challenge')\n",
    "else:\n",
    "    root = Path('dataset/dump')\n",
    "\n",
    "train_path = root / 'train-metadata.csv'\n",
    "test_path = root / 'test-metadata.csv'\n",
    "subm_path = root / 'sample_submission.csv'\n",
    "\n",
    "id_col = 'isic_id'\n",
    "target_col = 'target'\n",
    "group_col = 'patient_id'\n",
    "\n",
    "err = 1e-5\n",
    "sampling_ratio = 0.01\n",
    "seed = 42\n",
    "\n",
    "num_cols = [\n",
    "    'age_approx',                        # Approximate age of patient at time of imaging.\n",
    "    'clin_size_long_diam_mm',            # Maximum diameter of the lesion (mm).+\n",
    "    'tbp_lv_A',                          # A inside  lesion.+\n",
    "    'tbp_lv_Aext',                       # A outside lesion.+\n",
    "    'tbp_lv_B',                          # B inside  lesion.+\n",
    "    'tbp_lv_Bext',                       # B outside lesion.+ \n",
    "    'tbp_lv_C',                          # Chroma inside  lesion.+\n",
    "    'tbp_lv_Cext',                       # Chroma outside lesion.+\n",
    "    'tbp_lv_H',                          # Hue inside the lesion; calculated as the angle of A* and B* in LAB* color space. Typical values range from 25 (red) to 75 (brown).+\n",
    "    'tbp_lv_Hext',                       # Hue outside lesion.+\n",
    "    'tbp_lv_L',                          # L inside lesion.+\n",
    "    'tbp_lv_Lext',                       # L outside lesion.+\n",
    "    'tbp_lv_areaMM2',                    # Area of lesion (mm^2).+\n",
    "    'tbp_lv_area_perim_ratio',           # Border jaggedness, the ratio between lesions perimeter and area. Circular lesions will have low values; irregular shaped lesions will have higher values. Values range 0-10.+\n",
    "    'tbp_lv_color_std_mean',             # Color irregularity, calculated as the variance of colors within the lesion's boundary.\n",
    "    'tbp_lv_deltaA',                     # Average A contrast (inside vs. outside lesion).+\n",
    "    'tbp_lv_deltaB',                     # Average B contrast (inside vs. outside lesion).+\n",
    "    'tbp_lv_deltaL',                     # Average L contrast (inside vs. outside lesion).+\n",
    "    'tbp_lv_deltaLB',                    #\n",
    "    'tbp_lv_deltaLBnorm',                # Contrast between the lesion and its immediate surrounding skin. Low contrast lesions tend to be faintly visible such as freckles; high contrast lesions tend to be those with darker pigment. Calculated as the average delta LB of the lesion relative to its immediate background in LAB* color space. Typical values range from 5.5 to 25.+\n",
    "    'tbp_lv_eccentricity',               # Eccentricity.+\n",
    "    'tbp_lv_minorAxisMM',                # Smallest lesion diameter (mm).+\n",
    "    'tbp_lv_nevi_confidence',            # Nevus confidence score (0-100 scale) is a convolutional neural network classifier estimated probability that the lesion is a nevus. The neural network was trained on approximately 57,000 lesions that were classified and labeled by a dermatologist.+,++\n",
    "    'tbp_lv_norm_border',                # Border irregularity (0-10 scale); the normalized average of border jaggedness and asymmetry.+\n",
    "    'tbp_lv_norm_color',                 # Color variation (0-10 scale); the normalized average of color asymmetry and color irregularity.+\n",
    "    'tbp_lv_perimeterMM',                # Perimeter of lesion (mm).+\n",
    "    'tbp_lv_radial_color_std_max',       # Color asymmetry, a measure of asymmetry of the spatial distribution of color within the lesion. This score is calculated by looking at the average standard deviation in LAB* color space within concentric rings originating from the lesion center. Values range 0-10.+\n",
    "    'tbp_lv_stdL',                       # Standard deviation of L inside  lesion.+\n",
    "    'tbp_lv_stdLExt',                    # Standard deviation of L outside lesion.+\n",
    "    'tbp_lv_symm_2axis',                 # Border asymmetry; a measure of asymmetry of the lesion's contour about an axis perpendicular to the lesion's most symmetric axis. Lesions with two axes of symmetry will therefore have low scores (more symmetric), while lesions with only one or zero axes of symmetry will have higher scores (less symmetric). This score is calculated by comparing opposite halves of the lesion contour over many degrees of rotation. The angle where the halves are most similar identifies the principal axis of symmetry, while the second axis of symmetry is perpendicular to the principal axis. Border asymmetry is reported as the asymmetry value about this second axis. Values range 0-10.+\n",
    "    'tbp_lv_symm_2axis_angle',           # Lesion border asymmetry angle.+\n",
    "    'tbp_lv_x',                          # X-coordinate of the lesion on 3D TBP.+\n",
    "    'tbp_lv_y',                          # Y-coordinate of the lesion on 3D TBP.+\n",
    "    'tbp_lv_z',                          # Z-coordinate of the lesion on 3D TBP.+\n",
    "]\n",
    "\n",
    "new_num_cols = [\n",
    "    'lesion_size_ratio',                 # tbp_lv_minorAxisMM      / clin_size_long_diam_mm\n",
    "    'lesion_shape_index',                # tbp_lv_areaMM2          / tbp_lv_perimeterMM **2\n",
    "    'hue_contrast',                      # tbp_lv_H                - tbp_lv_Hext              abs\n",
    "    'luminance_contrast',                # tbp_lv_L                - tbp_lv_Lext              abs\n",
    "    'lesion_color_difference',           # tbp_lv_deltaA **2       + tbp_lv_deltaB **2 + tbp_lv_deltaL **2  sqrt  \n",
    "    'border_complexity',                 # tbp_lv_norm_border      + tbp_lv_symm_2axis\n",
    "    'color_uniformity',                  # tbp_lv_color_std_mean   / tbp_lv_radial_color_std_max\n",
    "\n",
    "    'position_distance_3d',              # tbp_lv_x **2 + tbp_lv_y **2 + tbp_lv_z **2  sqrt\n",
    "    'perimeter_to_area_ratio',           # tbp_lv_perimeterMM      / tbp_lv_areaMM2\n",
    "    'area_to_perimeter_ratio',           # tbp_lv_areaMM2          / tbp_lv_perimeterMM\n",
    "    'lesion_visibility_score',           # tbp_lv_deltaLBnorm      + tbp_lv_norm_color\n",
    "    'symmetry_border_consistency',       # tbp_lv_symm_2axis       * tbp_lv_norm_border\n",
    "    'consistency_symmetry_border',       # tbp_lv_symm_2axis       * tbp_lv_norm_border / (tbp_lv_symm_2axis + tbp_lv_norm_border)\n",
    "\n",
    "    'color_consistency',                 # tbp_lv_stdL             / tbp_lv_Lext\n",
    "    'consistency_color',                 # tbp_lv_stdL*tbp_lv_Lext / tbp_lv_stdL + tbp_lv_Lext\n",
    "    'size_age_interaction',              # clin_size_long_diam_mm  * age_approx\n",
    "    'hue_color_std_interaction',         # tbp_lv_H                * tbp_lv_color_std_mean\n",
    "    'lesion_severity_index',             # tbp_lv_norm_border      + tbp_lv_norm_color + tbp_lv_eccentricity / 3\n",
    "    'shape_complexity_index',            # border_complexity       + lesion_shape_index\n",
    "    'color_contrast_index',              # tbp_lv_deltaA + tbp_lv_deltaB + tbp_lv_deltaL + tbp_lv_deltaLBnorm\n",
    "\n",
    "    'log_lesion_area',                   # tbp_lv_areaMM2          + 1  np.log\n",
    "    'normalized_lesion_size',            # clin_size_long_diam_mm  / age_approx\n",
    "    'mean_hue_difference',               # tbp_lv_H                + tbp_lv_Hext    / 2\n",
    "    'std_dev_contrast',                  # tbp_lv_deltaA **2 + tbp_lv_deltaB **2 + tbp_lv_deltaL **2   / 3  np.sqrt\n",
    "    'color_shape_composite_index',       # tbp_lv_color_std_mean   + bp_lv_area_perim_ratio + tbp_lv_symm_2axis   / 3\n",
    "    'lesion_orientation_3d',             # tbp_lv_y                , tbp_lv_x  np.arctan2\n",
    "    'overall_color_difference',          # tbp_lv_deltaA           + tbp_lv_deltaB + tbp_lv_deltaL   / 3\n",
    "\n",
    "    'symmetry_perimeter_interaction',    # tbp_lv_symm_2axis       * tbp_lv_perimeterMM\n",
    "    'comprehensive_lesion_index',        # tbp_lv_area_perim_ratio + tbp_lv_eccentricity + bp_lv_norm_color + tbp_lv_symm_2axis   / 4\n",
    "    'color_variance_ratio',              # tbp_lv_color_std_mean   / tbp_lv_stdLExt\n",
    "    'border_color_interaction',          # tbp_lv_norm_border      * tbp_lv_norm_color\n",
    "    'border_color_interaction_2',\n",
    "    'size_color_contrast_ratio',         # clin_size_long_diam_mm  / tbp_lv_deltaLBnorm\n",
    "    'age_normalized_nevi_confidence',    # tbp_lv_nevi_confidence  / age_approx\n",
    "    'age_normalized_nevi_confidence_2',\n",
    "    'color_asymmetry_index',             # tbp_lv_symm_2axis       * tbp_lv_radial_color_std_max\n",
    "\n",
    "    'volume_approximation_3d',           # tbp_lv_areaMM2          * sqrt(tbp_lv_x**2 + tbp_lv_y**2 + tbp_lv_z**2)\n",
    "    'color_range',                       # abs(tbp_lv_L - tbp_lv_Lext) + abs(tbp_lv_A - tbp_lv_Aext) + abs(tbp_lv_B - tbp_lv_Bext)\n",
    "    'shape_color_consistency',           # tbp_lv_eccentricity     * tbp_lv_color_std_mean\n",
    "    'border_length_ratio',               # tbp_lv_perimeterMM      / pi * sqrt(tbp_lv_areaMM2 / pi)\n",
    "    'age_size_symmetry_index',           # age_approx              * clin_size_long_diam_mm * tbp_lv_symm_2axis\n",
    "    'index_age_size_symmetry',           # age_approx              * tbp_lv_areaMM2 * tbp_lv_symm_2axis\n",
    "]\n",
    "\n",
    "cat_cols = ['sex', 'anatom_site_general', 'tbp_tile_type', 'tbp_lv_location', 'tbp_lv_location_simple', 'attribution']\n",
    "norm_cols = [f'{col}_patient_norm' for col in num_cols + new_num_cols]\n",
    "special_cols = ['count_per_patient']\n",
    "# image_cols = [\"target_3\",\"target_effnetv1b0\",\"target_eva02\",\"target_edgenext\"]\n",
    "image_cols = [\"target_resnet18\"]\n",
    "#image_cols = [\"target_3\",\"target_effnetv1b0\"]\n",
    "\n",
    "#norm_cols += image_cols\n",
    "feature_cols = num_cols + new_num_cols + cat_cols + norm_cols + special_cols"
   ]
  },
  {
   "cell_type": "code",
   "execution_count": 10,
   "id": "dcadf687",
   "metadata": {
    "execution": {
     "iopub.execute_input": "2024-08-20T17:28:24.718869Z",
     "iopub.status.busy": "2024-08-20T17:28:24.718425Z",
     "iopub.status.idle": "2024-08-20T17:28:24.748774Z",
     "shell.execute_reply": "2024-08-20T17:28:24.747820Z"
    },
    "papermill": {
     "duration": 0.047929,
     "end_time": "2024-08-20T17:28:24.750868",
     "exception": false,
     "start_time": "2024-08-20T17:28:24.702939",
     "status": "completed"
    },
    "tags": []
   },
   "outputs": [],
   "source": [
    "def read_data(path):\n",
    "    return (\n",
    "        pl.read_csv(path)\n",
    "        .with_columns(\n",
    "            pl.col('age_approx').cast(pl.String).replace('NA', np.nan).cast(pl.Float64),\n",
    "        )\n",
    "        .with_columns(\n",
    "            pl.col(pl.Float64).fill_nan(pl.col(pl.Float64).median()), # You may want to impute test data with train\n",
    "        )\n",
    "        .with_columns(\n",
    "            lesion_size_ratio              = pl.col('tbp_lv_minorAxisMM') / pl.col('clin_size_long_diam_mm'),\n",
    "            lesion_shape_index             = pl.col('tbp_lv_areaMM2') / (pl.col('tbp_lv_perimeterMM') ** 2),\n",
    "            hue_contrast                   = (pl.col('tbp_lv_H') - pl.col('tbp_lv_Hext')).abs(),\n",
    "            luminance_contrast             = (pl.col('tbp_lv_L') - pl.col('tbp_lv_Lext')).abs(),\n",
    "            lesion_color_difference        = (pl.col('tbp_lv_deltaA') ** 2 + pl.col('tbp_lv_deltaB') ** 2 + pl.col('tbp_lv_deltaL') ** 2).sqrt(),\n",
    "            border_complexity              = pl.col('tbp_lv_norm_border') + pl.col('tbp_lv_symm_2axis'),\n",
    "            color_uniformity               = pl.col('tbp_lv_color_std_mean') / (pl.col('tbp_lv_radial_color_std_max') + err),\n",
    "        )\n",
    "        .with_columns(\n",
    "            position_distance_3d           = (pl.col('tbp_lv_x') ** 2 + pl.col('tbp_lv_y') ** 2 + pl.col('tbp_lv_z') ** 2).sqrt(),\n",
    "            perimeter_to_area_ratio        = pl.col('tbp_lv_perimeterMM') / pl.col('tbp_lv_areaMM2'),\n",
    "            area_to_perimeter_ratio        = pl.col('tbp_lv_areaMM2') / pl.col('tbp_lv_perimeterMM'),\n",
    "            lesion_visibility_score        = pl.col('tbp_lv_deltaLBnorm') + pl.col('tbp_lv_norm_color'),\n",
    "            combined_anatomical_site       = pl.col('anatom_site_general') + '_' + pl.col('tbp_lv_location'),\n",
    "            symmetry_border_consistency    = pl.col('tbp_lv_symm_2axis') * pl.col('tbp_lv_norm_border'),\n",
    "            consistency_symmetry_border    = pl.col('tbp_lv_symm_2axis') * pl.col('tbp_lv_norm_border') / (pl.col('tbp_lv_symm_2axis') + pl.col('tbp_lv_norm_border')),\n",
    "        )\n",
    "        .with_columns(\n",
    "            color_consistency              = pl.col('tbp_lv_stdL') / pl.col('tbp_lv_Lext'),\n",
    "            consistency_color              = pl.col('tbp_lv_stdL') * pl.col('tbp_lv_Lext') / (pl.col('tbp_lv_stdL') + pl.col('tbp_lv_Lext')),\n",
    "            size_age_interaction           = pl.col('clin_size_long_diam_mm') * pl.col('age_approx'),\n",
    "            hue_color_std_interaction      = pl.col('tbp_lv_H') * pl.col('tbp_lv_color_std_mean'),\n",
    "            lesion_severity_index          = (pl.col('tbp_lv_norm_border') + pl.col('tbp_lv_norm_color') + pl.col('tbp_lv_eccentricity')) / 3,\n",
    "            shape_complexity_index         = pl.col('border_complexity') + pl.col('lesion_shape_index'),\n",
    "            color_contrast_index           = pl.col('tbp_lv_deltaA') + pl.col('tbp_lv_deltaB') + pl.col('tbp_lv_deltaL') + pl.col('tbp_lv_deltaLBnorm'),\n",
    "        )\n",
    "        .with_columns(\n",
    "            log_lesion_area                = (pl.col('tbp_lv_areaMM2') + 1).log(),\n",
    "            normalized_lesion_size         = pl.col('clin_size_long_diam_mm') / pl.col('age_approx'),\n",
    "            mean_hue_difference            = (pl.col('tbp_lv_H') + pl.col('tbp_lv_Hext')) / 2,\n",
    "            std_dev_contrast               = ((pl.col('tbp_lv_deltaA') ** 2 + pl.col('tbp_lv_deltaB') ** 2 + pl.col('tbp_lv_deltaL') ** 2) / 3).sqrt(),\n",
    "            color_shape_composite_index    = (pl.col('tbp_lv_color_std_mean') + pl.col('tbp_lv_area_perim_ratio') + pl.col('tbp_lv_symm_2axis')) / 3,\n",
    "            lesion_orientation_3d          = pl.arctan2(pl.col('tbp_lv_y'), pl.col('tbp_lv_x')),\n",
    "            overall_color_difference       = (pl.col('tbp_lv_deltaA') + pl.col('tbp_lv_deltaB') + pl.col('tbp_lv_deltaL')) / 3,\n",
    "        )\n",
    "        .with_columns(\n",
    "            symmetry_perimeter_interaction = pl.col('tbp_lv_symm_2axis') * pl.col('tbp_lv_perimeterMM'),\n",
    "            comprehensive_lesion_index     = (pl.col('tbp_lv_area_perim_ratio') + pl.col('tbp_lv_eccentricity') + pl.col('tbp_lv_norm_color') + pl.col('tbp_lv_symm_2axis')) / 4,\n",
    "            color_variance_ratio           = pl.col('tbp_lv_color_std_mean') / pl.col('tbp_lv_stdLExt'),\n",
    "            border_color_interaction       = pl.col('tbp_lv_norm_border') * pl.col('tbp_lv_norm_color'),\n",
    "            border_color_interaction_2     = pl.col('tbp_lv_norm_border') * pl.col('tbp_lv_norm_color') / (pl.col('tbp_lv_norm_border') + pl.col('tbp_lv_norm_color')),\n",
    "            size_color_contrast_ratio      = pl.col('clin_size_long_diam_mm') / pl.col('tbp_lv_deltaLBnorm'),\n",
    "            age_normalized_nevi_confidence = pl.col('tbp_lv_nevi_confidence') / pl.col('age_approx'),\n",
    "            age_normalized_nevi_confidence_2 = (pl.col('clin_size_long_diam_mm')**2 + pl.col('age_approx')**2).sqrt(),\n",
    "            color_asymmetry_index          = pl.col('tbp_lv_radial_color_std_max') * pl.col('tbp_lv_symm_2axis'),\n",
    "        )\n",
    "        .with_columns(\n",
    "            volume_approximation_3d        = pl.col('tbp_lv_areaMM2') * (pl.col('tbp_lv_x')**2 + pl.col('tbp_lv_y')**2 + pl.col('tbp_lv_z')**2).sqrt(),\n",
    "            color_range                    = (pl.col('tbp_lv_L') - pl.col('tbp_lv_Lext')).abs() + (pl.col('tbp_lv_A') - pl.col('tbp_lv_Aext')).abs() + (pl.col('tbp_lv_B') - pl.col('tbp_lv_Bext')).abs(),\n",
    "            shape_color_consistency        = pl.col('tbp_lv_eccentricity') * pl.col('tbp_lv_color_std_mean'),\n",
    "            border_length_ratio            = pl.col('tbp_lv_perimeterMM') / (2 * np.pi * (pl.col('tbp_lv_areaMM2') / np.pi).sqrt()),\n",
    "            age_size_symmetry_index        = pl.col('age_approx') * pl.col('clin_size_long_diam_mm') * pl.col('tbp_lv_symm_2axis'),\n",
    "            index_age_size_symmetry        = pl.col('age_approx') * pl.col('tbp_lv_areaMM2') * pl.col('tbp_lv_symm_2axis'),\n",
    "        )\n",
    "        .with_columns(\n",
    "            ((pl.col(col) - pl.col(col).mean().over('patient_id')) / (pl.col(col).std().over('patient_id') + err)).alias(f'{col}_patient_norm') for col in (num_cols + new_num_cols)\n",
    "        )\n",
    "        .with_columns(\n",
    "            count_per_patient = pl.col('isic_id').count().over('patient_id'),\n",
    "        )\n",
    "        .with_columns(\n",
    "            pl.col(cat_cols).cast(pl.Categorical),\n",
    "        )\n",
    "        .to_pandas()\n",
    "        .set_index(id_col)\n",
    "    )"
   ]
  },
  {
   "cell_type": "code",
   "execution_count": 20,
   "id": "b6f5ec55",
   "metadata": {
    "execution": {
     "iopub.execute_input": "2024-08-20T17:28:24.782062Z",
     "iopub.status.busy": "2024-08-20T17:28:24.781222Z",
     "iopub.status.idle": "2024-08-20T17:28:24.797947Z",
     "shell.execute_reply": "2024-08-20T17:28:24.797046Z"
    },
    "papermill": {
     "duration": 0.034534,
     "end_time": "2024-08-20T17:28:24.800193",
     "exception": false,
     "start_time": "2024-08-20T17:28:24.765659",
     "status": "completed"
    },
    "tags": []
   },
   "outputs": [],
   "source": [
    "# def preprocess(df_train, df_test):\n",
    "#     global cat_cols\n",
    "    \n",
    "#     encoder = OneHotEncoder(sparse_output=False, dtype=np.int32, handle_unknown='ignore')\n",
    "#     encoder.fit(df_train[cat_cols])\n",
    "    \n",
    "#     new_cat_cols = [f'onehot_{i}' for i in range(len(encoder.get_feature_names_out()))]\n",
    "\n",
    "#     df_train[new_cat_cols] = encoder.transform(df_train[cat_cols])\n",
    "#     df_train[new_cat_cols] = df_train[new_cat_cols].astype('category')\n",
    "\n",
    "#     df_test[new_cat_cols] = encoder.transform(df_test[cat_cols])\n",
    "#     df_test[new_cat_cols] = df_test[new_cat_cols].astype('category')\n",
    "    \n",
    "    \n",
    "#     # effnetv1b0\n",
    "#     df_eff = pd.read_csv(\"/kaggle/input/isic-inference-effnetv1b0-for-training-data/train_effnetv1b0.csv\")\n",
    "  \n",
    "#     df_train = df_train.reset_index(drop=True)\n",
    "#     df_eff = df_eff.reset_index(drop=True)\n",
    "    \n",
    "#     #upload effnetv1b0 train predictions values\n",
    "#     df_train[\"target_effnetv1b0\"] = df_eff[\"target_effnetv1b0\"]\n",
    "#     df_eff = pd.read_csv(\"submission_effnetv1b0.csv\")\n",
    "    \n",
    "#     df_test = df_test.reset_index(drop=True)\n",
    "#     df_eff = df_eff.reset_index(drop=True)\n",
    "    \n",
    "#     #upload effnetv1b0 test predictions values\n",
    "#     df_test[\"target_effnetv1b0\"] = df_eff[\"target\"]\n",
    "        \n",
    "#     # target 3\n",
    "#     df_image_3 = pd.read_csv(\"/kaggle/input/isic-2024-pl-submission-script-and-preds/train_preds.csv\")\n",
    "    \n",
    "#     df_train = df_train.reset_index(drop=True)\n",
    "#     df_image_3 = df_image_3.reset_index(drop=True)\n",
    "    \n",
    "#     df_train[\"target_3\"] = df_image_3[\"pred\"]\n",
    "    \n",
    "#     df_3 = pd.read_csv(\"submission_image3.csv\")\n",
    "    \n",
    "#     df_test = df_test.reset_index(drop=True)\n",
    "#     df_image_3 = df_image_3.reset_index(drop=True)\n",
    "    \n",
    "#     df_test[\"target_3\"] = df_3[\"target\"]\n",
    "    \n",
    "#     #eva02\n",
    "#     df_eva = pd.read_csv(\"/kaggle/input/isic-inference-eva02-for-training-data/train_eva02.csv\")\n",
    "    \n",
    "#     df_train = df_train.reset_index(drop=True)\n",
    "#     df_eva = df_eva.reset_index(drop=True)\n",
    "    \n",
    "#     df_eva = df_eva[[\"target_eva02\"]]\n",
    "#     df_train[\"target_eva02\"] = df_eva[\"target_eva02\"]\n",
    "    \n",
    "#     df_eva = pd.read_csv(\"submission_eva02.csv\")\n",
    "    \n",
    "#     df_test = df_test.reset_index(drop=True)\n",
    "#     df_eva = df_eva.reset_index(drop=True)\n",
    "    \n",
    "#     df_test[\"target_eva02\"] = df_eva[\"target\"]\n",
    "    \n",
    "#     #edgenext\n",
    "#     df_ednx = pd.read_csv(\"/kaggle/input/isic-inference-edgenext-for-training-data/train_edgenext.csv\")\n",
    "#     df_train = df_train.reset_index(drop=True)\n",
    "#     df_ednx = df_ednx.reset_index(drop=True)\n",
    "#     df_ednx = df_ednx[['target_edgenext']]\n",
    "#     df_train['target_edgenext'] = df_ednx['target_edgenext']\n",
    "#     df_ednx = pd.read_csv(\"submission_edgenext.csv\")\n",
    "#     df_test = df_test.reset_index(drop=True)\n",
    "#     df_ednx = df_ednx.reset_index(drop=True)\n",
    "#     df_test [\"target_edgenext\"] = df_ednx['target']\n",
    "\n",
    "\n",
    "#     for col in cat_cols:\n",
    "#         feature_cols.remove(col)\n",
    "\n",
    "#     feature_cols.extend(new_cat_cols)\n",
    "#     cat_cols = new_cat_cols\n",
    "    \n",
    "#     return df_train, df_test\n",
    "\n",
    "\n",
    "\n",
    "def preprocess(df_train, df_test):\n",
    "    global cat_cols\n",
    "    \n",
    "    # Encode categorical features\n",
    "    encoder = OneHotEncoder(sparse_output=False, dtype=np.int32, handle_unknown='ignore')\n",
    "    encoder.fit(df_train[cat_cols])\n",
    "    \n",
    "    new_cat_cols = [f'onehot_{i}' for i in range(len(encoder.get_feature_names_out()))]\n",
    "\n",
    "    df_train[new_cat_cols] = encoder.transform(df_train[cat_cols])\n",
    "    df_train[new_cat_cols] = df_train[new_cat_cols].astype('category')\n",
    "\n",
    "    df_test[new_cat_cols] = encoder.transform(df_test[cat_cols])\n",
    "    df_test[new_cat_cols] = df_test[new_cat_cols].astype('category')\n",
    "    \n",
    "    # ResNet18 predictions\n",
    "    if kaggle:\n",
    "        df_resnet = pd.read_csv(\"/kaggle/input/isic-inference-resnet18-for-training-data/train_resnet18.csv\")\n",
    "    else:\n",
    "        df_resnet = pd.read_csv(\"submission_resnet_train.csv\")\n",
    "    \n",
    "    df_train = df_train.reset_index(drop=True)\n",
    "    df_resnet = df_resnet.reset_index(drop=True)\n",
    "    \n",
    "    # Upload ResNet18 train predictions values\n",
    "    df_train[\"target_resnet18\"] = df_resnet[\"target\"]\n",
    "    \n",
    "    df_resnet_test = pd.read_csv(\"submission_resnet18_test.csv\")\n",
    "    \n",
    "    df_test = df_test.reset_index(drop=True)\n",
    "    df_resnet_test = df_resnet_test.reset_index(drop=True)\n",
    "    \n",
    "    # Upload ResNet18 test predictions values\n",
    "    df_test[\"target_resnet18\"] = df_resnet_test[\"target\"]\n",
    "\n",
    "    # Remove old categorical columns and add new one-hot encoded columns to feature list\n",
    "    for col in cat_cols:\n",
    "        feature_cols.remove(col)\n",
    "\n",
    "    feature_cols.extend(new_cat_cols)\n",
    "    cat_cols = new_cat_cols\n",
    "    \n",
    "    return df_train, df_test\n"
   ]
  },
  {
   "cell_type": "code",
   "execution_count": 21,
   "id": "8ec218fa",
   "metadata": {
    "execution": {
     "iopub.execute_input": "2024-08-20T17:28:24.831916Z",
     "iopub.status.busy": "2024-08-20T17:28:24.831103Z",
     "iopub.status.idle": "2024-08-20T17:28:24.837368Z",
     "shell.execute_reply": "2024-08-20T17:28:24.836508Z"
    },
    "papermill": {
     "duration": 0.023789,
     "end_time": "2024-08-20T17:28:24.839316",
     "exception": false,
     "start_time": "2024-08-20T17:28:24.815527",
     "status": "completed"
    },
    "tags": []
   },
   "outputs": [],
   "source": [
    "def custom_metric(estimator, X, y_true):\n",
    "    y_hat = estimator.predict_proba(X)[:, 1]\n",
    "    min_tpr = 0.80\n",
    "    max_fpr = abs(1 - min_tpr)\n",
    "    \n",
    "    v_gt = abs(y_true - 1)\n",
    "    v_pred = np.array([1.0 - x for x in y_hat])\n",
    "    \n",
    "    partial_auc_scaled = roc_auc_score(v_gt, v_pred, max_fpr=max_fpr)\n",
    "    partial_auc = 0.5 * max_fpr**2 + (max_fpr - 0.5 * max_fpr**2) / (1.0 - 0.5) * (partial_auc_scaled - 0.5)\n",
    "    \n",
    "    return partial_auc"
   ]
  },
  {
   "cell_type": "code",
   "execution_count": 22,
   "id": "a60ad992",
   "metadata": {
    "execution": {
     "iopub.execute_input": "2024-08-20T17:28:24.869497Z",
     "iopub.status.busy": "2024-08-20T17:28:24.868884Z",
     "iopub.status.idle": "2024-08-20T17:28:56.530719Z",
     "shell.execute_reply": "2024-08-20T17:28:56.529699Z"
    },
    "papermill": {
     "duration": 31.679683,
     "end_time": "2024-08-20T17:28:56.533174",
     "exception": false,
     "start_time": "2024-08-20T17:28:24.853491",
     "status": "completed"
    },
    "tags": []
   },
   "outputs": [],
   "source": [
    "df_train = read_data(train_path)\n",
    "df_test = read_data(test_path)\n",
    "df_subm = pd.read_csv(subm_path, index_col=id_col)\n",
    "\n",
    "df_train, df_test = preprocess(df_train, df_test)"
   ]
  },
  {
   "cell_type": "markdown",
   "id": "ae6573d1",
   "metadata": {
    "papermill": {
     "duration": 0.014232,
     "end_time": "2024-08-20T17:28:56.562233",
     "exception": false,
     "start_time": "2024-08-20T17:28:56.548001",
     "status": "completed"
    },
    "tags": []
   },
   "source": [
    "***drop least important features with feature importance(code at the last of the notebook before test predictions)***"
   ]
  },
  {
   "cell_type": "code",
   "execution_count": 23,
   "id": "b31339ab",
   "metadata": {
    "execution": {
     "iopub.execute_input": "2024-08-20T17:28:56.593119Z",
     "iopub.status.busy": "2024-08-20T17:28:56.592708Z",
     "iopub.status.idle": "2024-08-20T17:28:56.804350Z",
     "shell.execute_reply": "2024-08-20T17:28:56.803526Z"
    },
    "papermill": {
     "duration": 0.230021,
     "end_time": "2024-08-20T17:28:56.806680",
     "exception": false,
     "start_time": "2024-08-20T17:28:56.576659",
     "status": "completed"
    },
    "tags": []
   },
   "outputs": [],
   "source": [
    "#they are detected at the first run\n",
    "least_important_features = ['onehot_32', 'onehot_6', 'onehot_33', 'onehot_30', 'onehot_26', 'onehot_22', 'onehot_36', 'onehot_4']\n",
    "#they are detected after the least_important_features are removed and it has increased cv score also so I add it\n",
    "#least_important_features_2 = ['onehot_17', 'onehot_42', 'onehot_29', 'onehot_13', 'onehot_25']\n",
    "#least_important_features += least_important_features_2\n",
    "df_train.drop(columns =least_important_features,inplace = True)\n",
    "for feature in least_important_features:\n",
    "    cat_cols.remove(feature)\n",
    "    feature_cols.remove(feature)"
   ]
  },
  {
   "cell_type": "markdown",
   "id": "de545b93",
   "metadata": {
    "papermill": {
     "duration": 0.014193,
     "end_time": "2024-08-20T17:28:56.835700",
     "exception": false,
     "start_time": "2024-08-20T17:28:56.821507",
     "status": "completed"
    },
    "tags": []
   },
   "source": [
    "# MODEL INITIALIZATION"
   ]
  },
  {
   "cell_type": "code",
   "execution_count": 24,
   "id": "73f87fed",
   "metadata": {
    "execution": {
     "iopub.execute_input": "2024-08-20T17:28:56.866114Z",
     "iopub.status.busy": "2024-08-20T17:28:56.865733Z",
     "iopub.status.idle": "2024-08-20T17:28:56.872288Z",
     "shell.execute_reply": "2024-08-20T17:28:56.871330Z"
    },
    "papermill": {
     "duration": 0.024081,
     "end_time": "2024-08-20T17:28:56.874407",
     "exception": false,
     "start_time": "2024-08-20T17:28:56.850326",
     "status": "completed"
    },
    "tags": []
   },
   "outputs": [],
   "source": [
    "from sklearn.base import BaseEstimator, TransformerMixin\n",
    "import copy\n",
    "\n",
    "feature_cols_without_image_cols = copy.copy(feature_cols)\n",
    "feature_cols += image_cols\n",
    "\n",
    "class SelectColumns(BaseEstimator, TransformerMixin):\n",
    "    def __init__(self, columns):\n",
    "        self.columns = columns\n",
    "    def fit(self, X, y=None):\n",
    "        return self\n",
    "    def transform(self, X):\n",
    "        return X[self.columns]"
   ]
  },
  {
   "cell_type": "code",
   "execution_count": 25,
   "id": "56a283d9",
   "metadata": {
    "execution": {
     "iopub.execute_input": "2024-08-20T17:28:56.904958Z",
     "iopub.status.busy": "2024-08-20T17:28:56.904584Z",
     "iopub.status.idle": "2024-08-20T17:28:56.912537Z",
     "shell.execute_reply": "2024-08-20T17:28:56.911598Z"
    },
    "papermill": {
     "duration": 0.025633,
     "end_time": "2024-08-20T17:28:56.914421",
     "exception": false,
     "start_time": "2024-08-20T17:28:56.888788",
     "status": "completed"
    },
    "tags": []
   },
   "outputs": [],
   "source": [
    "lgb_params = {\n",
    "    'objective':        'binary',\n",
    "    'verbosity':        -1,\n",
    "    'n_iter':           200,\n",
    "    'boosting_type':    'gbdt',\n",
    "    'random_state':     seed,\n",
    "    'lambda_l1':        0.08758718919397321, \n",
    "    'lambda_l2':        0.0039689175176025465, \n",
    "    'learning_rate':    0.03231007103195577, \n",
    "    'max_depth':        4, \n",
    "    'num_leaves':       103, \n",
    "    'colsample_bytree': 0.8329551585827726, \n",
    "    'colsample_bynode': 0.4025961355653304, \n",
    "    'bagging_fraction': 0.7738954452473223, \n",
    "    'bagging_freq':     4, \n",
    "    'min_data_in_leaf': 85, \n",
    "    'scale_pos_weight': 2.7984184778875543,\n",
    "}\n",
    "\n",
    "\n",
    "sampling_ratio = 0.01\n",
    "seed =42\n",
    "\n",
    "lgb_model = Pipeline([\n",
    "    ('sampler_1', RandomOverSampler(sampling_strategy= 0.003 , random_state=seed)),\n",
    "    ('sampler_2', RandomUnderSampler(sampling_strategy=sampling_ratio, random_state=seed)),\n",
    "    ('filter', SelectColumns(feature_cols_without_image_cols)),\n",
    "    ('classifier', lgb.LGBMClassifier(**lgb_params)),\n",
    "])"
   ]
  },
  {
   "cell_type": "code",
   "execution_count": 26,
   "id": "410ac8ae",
   "metadata": {
    "execution": {
     "iopub.execute_input": "2024-08-20T17:28:56.944439Z",
     "iopub.status.busy": "2024-08-20T17:28:56.944068Z",
     "iopub.status.idle": "2024-08-20T17:28:56.954570Z",
     "shell.execute_reply": "2024-08-20T17:28:56.953600Z"
    },
    "papermill": {
     "duration": 0.027835,
     "end_time": "2024-08-20T17:28:56.956679",
     "exception": false,
     "start_time": "2024-08-20T17:28:56.928844",
     "status": "completed"
    },
    "tags": []
   },
   "outputs": [],
   "source": [
    "cb_params = {\n",
    "    'loss_function':     'Logloss',\n",
    "    'iterations':        250,\n",
    "    'verbose':           False,\n",
    "    'random_state':      seed,\n",
    "    'max_depth':         7, \n",
    "    'learning_rate':     0.06936242010150652, \n",
    "    'scale_pos_weight':  2.6149345838209532, \n",
    "    'l2_leaf_reg':       6.216113851699493, \n",
    "    'subsample':         0.6249261779711819, \n",
    "    'min_data_in_leaf':  24,\n",
    "    'cat_features':      cat_cols,\n",
    "}\n",
    "cb_model = Pipeline([\n",
    "    ('sampler_1', RandomOverSampler(sampling_strategy= 0.003 , random_state=seed)),\n",
    "    ('sampler_2', RandomUnderSampler(sampling_strategy=sampling_ratio, random_state=seed)),\n",
    "    ('classifier', cb.CatBoostClassifier(**cb_params)),\n",
    "])"
   ]
  },
  {
   "cell_type": "code",
   "execution_count": 27,
   "id": "3f42b373",
   "metadata": {
    "execution": {
     "iopub.execute_input": "2024-08-20T17:28:56.987537Z",
     "iopub.status.busy": "2024-08-20T17:28:56.987167Z",
     "iopub.status.idle": "2024-08-20T17:28:56.994174Z",
     "shell.execute_reply": "2024-08-20T17:28:56.993244Z"
    },
    "papermill": {
     "duration": 0.024705,
     "end_time": "2024-08-20T17:28:56.996160",
     "exception": false,
     "start_time": "2024-08-20T17:28:56.971455",
     "status": "completed"
    },
    "tags": []
   },
   "outputs": [],
   "source": [
    "xgb_params = {\n",
    "    'enable_categorical': True,\n",
    "    'tree_method':        'hist',\n",
    "    'random_state':       seed,\n",
    "    'learning_rate':      0.08501257473292347, \n",
    "    'lambda':             8.879624125465703, \n",
    "    'alpha':              0.6779926606782505, \n",
    "    'max_depth':          6, \n",
    "    'subsample':          0.6012681388711075, \n",
    "    'colsample_bytree':   0.8437772277074493, \n",
    "    'colsample_bylevel':  0.5476090898823716, \n",
    "    'colsample_bynode':   0.9928601203635129, \n",
    "    'scale_pos_weight':   3.29440313334688,\n",
    "}\n",
    "\n",
    "xgb_model = Pipeline([\n",
    "    ('sampler_1', RandomOverSampler(sampling_strategy= 0.003 , random_state=seed)),\n",
    "    ('sampler_2', RandomUnderSampler(sampling_strategy=sampling_ratio, random_state=seed)),\n",
    "    ('classifier', xgb.XGBClassifier(**xgb_params)),\n",
    "])"
   ]
  },
  {
   "cell_type": "code",
   "execution_count": 28,
   "id": "2b6fe07d",
   "metadata": {
    "execution": {
     "iopub.execute_input": "2024-08-20T17:28:57.079625Z",
     "iopub.status.busy": "2024-08-20T17:28:57.079238Z",
     "iopub.status.idle": "2024-08-20T17:28:57.084220Z",
     "shell.execute_reply": "2024-08-20T17:28:57.083314Z"
    },
    "papermill": {
     "duration": 0.022581,
     "end_time": "2024-08-20T17:28:57.086248",
     "exception": false,
     "start_time": "2024-08-20T17:28:57.063667",
     "status": "completed"
    },
    "tags": []
   },
   "outputs": [],
   "source": [
    "estimator = VotingClassifier([\n",
    "    ('lgb', lgb_model), ('cb', cb_model), ('xgb', xgb_model),\n",
    "], voting='soft',weights=[0.30,0.47,0.28])"
   ]
  },
  {
   "cell_type": "markdown",
   "id": "6f86ecc5",
   "metadata": {
    "papermill": {
     "duration": 0.014183,
     "end_time": "2024-08-20T17:28:57.115384",
     "exception": false,
     "start_time": "2024-08-20T17:28:57.101201",
     "status": "completed"
    },
    "tags": []
   },
   "source": [
    "# CROSS VALIDATION"
   ]
  },
  {
   "cell_type": "code",
   "execution_count": 29,
   "id": "18e7f08d",
   "metadata": {
    "execution": {
     "iopub.execute_input": "2024-08-20T17:28:57.145992Z",
     "iopub.status.busy": "2024-08-20T17:28:57.145012Z",
     "iopub.status.idle": "2024-08-20T17:32:42.526251Z",
     "shell.execute_reply": "2024-08-20T17:32:42.525144Z"
    },
    "papermill": {
     "duration": 225.413717,
     "end_time": "2024-08-20T17:32:42.543292",
     "exception": false,
     "start_time": "2024-08-20T17:28:57.129575",
     "status": "completed"
    },
    "tags": []
   },
   "outputs": [
    {
     "name": "stderr",
     "output_type": "stream",
     "text": [
      "/home/mdi220/.virtualenvs/skin/lib/python3.10/site-packages/lightgbm/engine.py:204: UserWarning: Found `n_iter` in params. Will use it instead of argument\n",
      "  _log_warning(f\"Found `{alias}` in params. Will use it instead of argument\")\n",
      "/home/mdi220/.virtualenvs/skin/lib/python3.10/site-packages/lightgbm/engine.py:204: UserWarning: Found `n_iter` in params. Will use it instead of argument\n",
      "  _log_warning(f\"Found `{alias}` in params. Will use it instead of argument\")\n",
      "/home/mdi220/.virtualenvs/skin/lib/python3.10/site-packages/lightgbm/engine.py:204: UserWarning: Found `n_iter` in params. Will use it instead of argument\n",
      "  _log_warning(f\"Found `{alias}` in params. Will use it instead of argument\")\n",
      "/home/mdi220/.virtualenvs/skin/lib/python3.10/site-packages/lightgbm/engine.py:204: UserWarning: Found `n_iter` in params. Will use it instead of argument\n",
      "  _log_warning(f\"Found `{alias}` in params. Will use it instead of argument\")\n",
      "/home/mdi220/.virtualenvs/skin/lib/python3.10/site-packages/lightgbm/engine.py:204: UserWarning: Found `n_iter` in params. Will use it instead of argument\n",
      "  _log_warning(f\"Found `{alias}` in params. Will use it instead of argument\")\n"
     ]
    },
    {
     "data": {
      "text/plain": [
       "(0.18143063540495663,\n",
       " array([0.17669114, 0.17724288, 0.18954652, 0.17774158, 0.18593105]))"
      ]
     },
     "execution_count": 29,
     "metadata": {},
     "output_type": "execute_result"
    }
   ],
   "source": [
    "X = df_train[feature_cols]\n",
    "y = df_train[target_col]\n",
    "groups = df_train[group_col]\n",
    "cv = StratifiedGroupKFold(5, shuffle=True, random_state=seed)\n",
    "\n",
    "val_score = cross_val_score(\n",
    "    estimator=estimator, \n",
    "    X=X, y=y, \n",
    "    cv=cv, \n",
    "    groups=groups,\n",
    "    scoring=custom_metric,\n",
    ")\n",
    "\n",
    "np.mean(val_score), val_score\n",
    "\n",
    "\n",
    "# -------------------CV SCORES------------------------\n",
    "# RUS ==RandomUnderSampler(0.001) , ROS ==RandomOverSampler(0.003)\n",
    "# DROP NOTHING ----------------------> (0.18775) (RUS + image features(effnet+ target3))\n",
    "# DROP least_important_features -----> (0.18747) (RUS + image features(effnet+target3))\n",
    "# DROP NOTHING ----------------------> (0.17000) (ROS+RUS + no image features)\n",
    "# DROP least_important_features -----> (0.17124) (ROS+RUS + no image features)\n",
    "# DROP least_important_features+2 ---> (0.17160) (ROS+RUS + no image features)\n",
    "\n",
    "# edgenext (0.19038159621700457, array([0.19015561, 0.18941902, 0.19590514, 0.18606745, 0.19036077]))"
   ]
  },
  {
   "cell_type": "markdown",
   "id": "eac90c16",
   "metadata": {
    "papermill": {
     "duration": 0.014852,
     "end_time": "2024-08-20T17:32:42.572984",
     "exception": false,
     "start_time": "2024-08-20T17:32:42.558132",
     "status": "completed"
    },
    "tags": []
   },
   "source": [
    "# HYPERPARAMETER TUNING"
   ]
  },
  {
   "cell_type": "code",
   "execution_count": 30,
   "id": "61f9dbfd",
   "metadata": {
    "execution": {
     "iopub.execute_input": "2024-08-20T17:32:42.604759Z",
     "iopub.status.busy": "2024-08-20T17:32:42.603745Z",
     "iopub.status.idle": "2024-08-20T17:32:42.608682Z",
     "shell.execute_reply": "2024-08-20T17:32:42.607787Z"
    },
    "papermill": {
     "duration": 0.023479,
     "end_time": "2024-08-20T17:32:42.611085",
     "exception": false,
     "start_time": "2024-08-20T17:32:42.587606",
     "status": "completed"
    },
    "tags": []
   },
   "outputs": [],
   "source": [
    "DO_TUNING = False"
   ]
  },
  {
   "cell_type": "code",
   "execution_count": 31,
   "id": "cf4f20c3",
   "metadata": {
    "execution": {
     "iopub.execute_input": "2024-08-20T17:32:42.645535Z",
     "iopub.status.busy": "2024-08-20T17:32:42.645186Z",
     "iopub.status.idle": "2024-08-20T17:32:42.655300Z",
     "shell.execute_reply": "2024-08-20T17:32:42.654309Z"
    },
    "papermill": {
     "duration": 0.028226,
     "end_time": "2024-08-20T17:32:42.657523",
     "exception": false,
     "start_time": "2024-08-20T17:32:42.629297",
     "status": "completed"
    },
    "tags": []
   },
   "outputs": [],
   "source": [
    "def lgb_objective(trial):\n",
    "    params = {\n",
    "        'objective':         'binary',\n",
    "        'verbosity':         -1,\n",
    "        'n_iter': 200,\n",
    "        'boosting_type':  'gbdt',\n",
    "        'lambda_l1':         trial.suggest_float('lambda_l1', 1e-3, 10.0, log=True),\n",
    "        'lambda_l2':         trial.suggest_float('lambda_l2', 1e-3, 10.0, log=True),\n",
    "        'learning_rate':     trial.suggest_float('learning_rate', 1e-2, 1e-1, log=True),\n",
    "        'max_depth':         trial.suggest_int('max_depth', 4, 8),\n",
    "        'num_leaves':        trial.suggest_int('num_leaves', 16, 256),\n",
    "        'colsample_bytree':  trial.suggest_float('colsample_bytree', 0.4, 1.0),\n",
    "        'colsample_bynode':  trial.suggest_float('colsample_bynode', 0.4, 1.0),\n",
    "        'bagging_fraction':  trial.suggest_float('bagging_fraction', 0.4, 1.0),\n",
    "        'bagging_freq':      trial.suggest_int('bagging_freq', 1, 7),\n",
    "        'min_data_in_leaf':  trial.suggest_int('min_data_in_leaf', 5, 100),\n",
    "        'scale_pos_weight' : trial.suggest_float('scale_pos_weight', 0.8, 4.0),\n",
    "    }\n",
    "\n",
    "    estimator = Pipeline([\n",
    "        ('sampler', RandomUnderSampler(sampling_strategy=sampling_ratio)),\n",
    "        ('classifier', lgb.LGBMClassifier(**params)),\n",
    "    ])\n",
    "\n",
    "    X = df_train[feature_cols]\n",
    "    y = df_train[target_col]\n",
    "    groups = df_train[group_col]\n",
    "    cv = StratifiedGroupKFold(5, shuffle=True)\n",
    "\n",
    "    val_score = cross_val_score(\n",
    "        estimator=estimator, \n",
    "        X=X, y=y, \n",
    "        cv=cv, \n",
    "        groups=groups,\n",
    "        scoring=custom_metric,\n",
    "    )\n",
    "\n",
    "    return np.mean(val_score)"
   ]
  },
  {
   "cell_type": "code",
   "execution_count": 32,
   "id": "f8912fb0",
   "metadata": {
    "execution": {
     "iopub.execute_input": "2024-08-20T17:32:42.692923Z",
     "iopub.status.busy": "2024-08-20T17:32:42.691947Z",
     "iopub.status.idle": "2024-08-20T17:32:42.703618Z",
     "shell.execute_reply": "2024-08-20T17:32:42.702715Z"
    },
    "papermill": {
     "duration": 0.029926,
     "end_time": "2024-08-20T17:32:42.705643",
     "exception": false,
     "start_time": "2024-08-20T17:32:42.675717",
     "status": "completed"
    },
    "tags": []
   },
   "outputs": [],
   "source": [
    "def cb_objective(trial):\n",
    "    params = {\n",
    "        'loss_function':     'Logloss',\n",
    "        'iterations':        200,\n",
    "        'verbose':           False,\n",
    "        'random_state':      seed,\n",
    "        'learning_rate':     trial.suggest_float('learning_rate', 1e-2, 1e-1, log=True),\n",
    "        'max_depth':         trial.suggest_int('max_depth', 4, 8),\n",
    "        'l2_leaf_reg':       trial.suggest_float('l2_leaf_reg', 1e-3, 10.0, log=True),\n",
    "        'subsample':         trial.suggest_float('subsample', 0.4, 1.0),\n",
    "        'colsample_bylevel': trial.suggest_float('colsample_bylevel', 0.4, 1.0),\n",
    "        'min_data_in_leaf':  trial.suggest_int('min_data_in_leaf', 5, 100),\n",
    "        'scale_pos_weight':  trial.suggest_float('scale_pos_weight', 0.8, 4.0),\n",
    "        'bootstrap_type':    'Bayesian',  # Optional: depending on your use case, you may want to tune this as well\n",
    "    }\n",
    "\n",
    "    estimator = Pipeline([\n",
    "        ('sampler', RandomUnderSampler(sampling_strategy=sampling_ratio)),\n",
    "        ('classifier', cb.CatBoostClassifier(**params)),\n",
    "    ])\n",
    "\n",
    "    X = df_train[feature_cols]\n",
    "    y = df_train[target_col]\n",
    "    groups = df_train[group_col]\n",
    "    cv = StratifiedGroupKFold(5, shuffle=True)\n",
    "\n",
    "    val_score = cross_val_score(\n",
    "        estimator=estimator, \n",
    "        X=X, y=y, \n",
    "        cv=cv, \n",
    "        groups=groups,\n",
    "        scoring=custom_metric,\n",
    "    )\n",
    "\n",
    "    return np.mean(val_score)"
   ]
  },
  {
   "cell_type": "code",
   "execution_count": 33,
   "id": "b8cad02c",
   "metadata": {
    "execution": {
     "iopub.execute_input": "2024-08-20T17:32:42.736986Z",
     "iopub.status.busy": "2024-08-20T17:32:42.736614Z",
     "iopub.status.idle": "2024-08-20T17:32:42.746075Z",
     "shell.execute_reply": "2024-08-20T17:32:42.745074Z"
    },
    "papermill": {
     "duration": 0.027509,
     "end_time": "2024-08-20T17:32:42.748023",
     "exception": false,
     "start_time": "2024-08-20T17:32:42.720514",
     "status": "completed"
    },
    "tags": []
   },
   "outputs": [],
   "source": [
    "def xgb_objective(trial):\n",
    "    params = {\n",
    "        'objective':          'binary:logistic',\n",
    "        'n_estimators':       200,\n",
    "        'tree_method':        'hist',\n",
    "        'random_state':       seed,\n",
    "        'learning_rate':      trial.suggest_float('learning_rate', 1e-2, 1e-1, log=True),\n",
    "        'max_depth':          trial.suggest_int('max_depth', 4, 8),\n",
    "        'lambda':             trial.suggest_float('lambda', 1e-3, 10.0, log=True),\n",
    "        'alpha':              trial.suggest_float('alpha', 1e-3, 10.0, log=True),\n",
    "        'subsample':          trial.suggest_float('subsample', 0.4, 1.0),\n",
    "        'colsample_bytree':   trial.suggest_float('colsample_bytree', 0.4, 1.0),\n",
    "        'colsample_bynode':   trial.suggest_float('colsample_bynode', 0.4, 1.0),\n",
    "        'scale_pos_weight':   trial.suggest_float('scale_pos_weight', 0.8, 4.0),\n",
    "    }\n",
    "\n",
    "    estimator = Pipeline([\n",
    "        ('sampler', RandomUnderSampler(sampling_strategy=sampling_ratio)),\n",
    "        ('classifier', xgb.XGBClassifier(**params)),\n",
    "    ])\n",
    "\n",
    "    X = df_train[feature_cols]\n",
    "    y = df_train[target_col]\n",
    "    groups = df_train[group_col]\n",
    "    cv = StratifiedGroupKFold(5, shuffle=True)\n",
    "\n",
    "    val_score = cross_val_score(\n",
    "        estimator=estimator, \n",
    "        X=X, y=y, \n",
    "        cv=cv, \n",
    "        groups=groups,\n",
    "        scoring=custom_metric,\n",
    "    )\n",
    "\n",
    "    return np.mean(val_score)"
   ]
  },
  {
   "cell_type": "code",
   "execution_count": 34,
   "id": "a1789a23",
   "metadata": {
    "execution": {
     "iopub.execute_input": "2024-08-20T17:32:42.779266Z",
     "iopub.status.busy": "2024-08-20T17:32:42.778911Z",
     "iopub.status.idle": "2024-08-20T17:32:42.784484Z",
     "shell.execute_reply": "2024-08-20T17:32:42.783612Z"
    },
    "papermill": {
     "duration": 0.023493,
     "end_time": "2024-08-20T17:32:42.786455",
     "exception": false,
     "start_time": "2024-08-20T17:32:42.762962",
     "status": "completed"
    },
    "tags": []
   },
   "outputs": [],
   "source": [
    "if DO_TUNING:\n",
    "    # LightGBM\n",
    "    start_time = time.time()\n",
    "    study_lgb = optuna.create_study(direction='maximize', sampler=TPESampler(seed=seed))\n",
    "    study_lgb.optimize(objective_lgb, n_trials=100)\n",
    "    end_time = time.time()\n",
    "    elapsed_time_lgb = end_time - start_time\n",
    "    print(f\"LightGBM tuning took {elapsed_time_lgb:.2f} seconds.\")\n"
   ]
  },
  {
   "cell_type": "code",
   "execution_count": 35,
   "id": "84616591",
   "metadata": {
    "execution": {
     "iopub.execute_input": "2024-08-20T17:32:42.817350Z",
     "iopub.status.busy": "2024-08-20T17:32:42.816985Z",
     "iopub.status.idle": "2024-08-20T17:32:42.822626Z",
     "shell.execute_reply": "2024-08-20T17:32:42.821660Z"
    },
    "papermill": {
     "duration": 0.02344,
     "end_time": "2024-08-20T17:32:42.824606",
     "exception": false,
     "start_time": "2024-08-20T17:32:42.801166",
     "status": "completed"
    },
    "tags": []
   },
   "outputs": [],
   "source": [
    "if DO_TUNING:\n",
    "    # CatBoost\n",
    "    start_time = time.time()\n",
    "    study_cb = optuna.create_study(direction='maximize', sampler=TPESampler(seed=seed))\n",
    "    study_cb.optimize(objective_cb, n_trials=100)\n",
    "    end_time = time.time()\n",
    "    elapsed_time_cb = end_time - start_time\n",
    "    print(f\"CatBoost tuning took {elapsed_time_cb:.2f} seconds.\")"
   ]
  },
  {
   "cell_type": "code",
   "execution_count": 36,
   "id": "b64bc656",
   "metadata": {
    "execution": {
     "iopub.execute_input": "2024-08-20T17:32:42.857997Z",
     "iopub.status.busy": "2024-08-20T17:32:42.857249Z",
     "iopub.status.idle": "2024-08-20T17:32:42.862910Z",
     "shell.execute_reply": "2024-08-20T17:32:42.861962Z"
    },
    "papermill": {
     "duration": 0.025454,
     "end_time": "2024-08-20T17:32:42.864784",
     "exception": false,
     "start_time": "2024-08-20T17:32:42.839330",
     "status": "completed"
    },
    "tags": []
   },
   "outputs": [],
   "source": [
    "if DO_TUNING:\n",
    "    # XGBoost\n",
    "    start_time = time.time()\n",
    "    study_xgb = optuna.create_study(direction='maximize', sampler=TPESampler(seed=seed))\n",
    "    study_xgb.optimize(objective_xgb, n_trials=100)\n",
    "    end_time = time.time()\n",
    "    elapsed_time_xgb = end_time - start_time\n",
    "    print(f\"XGBoost tuning took {elapsed_time_xgb:.2f} seconds.\")"
   ]
  },
  {
   "cell_type": "code",
   "execution_count": 37,
   "id": "0e17124a",
   "metadata": {
    "execution": {
     "iopub.execute_input": "2024-08-20T17:32:42.897267Z",
     "iopub.status.busy": "2024-08-20T17:32:42.896626Z",
     "iopub.status.idle": "2024-08-20T17:32:42.901256Z",
     "shell.execute_reply": "2024-08-20T17:32:42.900353Z"
    },
    "papermill": {
     "duration": 0.023708,
     "end_time": "2024-08-20T17:32:42.903378",
     "exception": false,
     "start_time": "2024-08-20T17:32:42.879670",
     "status": "completed"
    },
    "tags": []
   },
   "outputs": [],
   "source": [
    "if DO_TUNING:\n",
    "    # Print best parameters for each study\n",
    "    print(\"Best LGBM trial:\", study_lgb.best_trial)\n",
    "    print(\"Best CatBoost trial:\", study_cb.best_trial)\n",
    "    print(\"Best XGBoost trial:\", study_xgb.best_trial)"
   ]
  },
  {
   "cell_type": "markdown",
   "id": "83775931",
   "metadata": {
    "papermill": {
     "duration": 0.014602,
     "end_time": "2024-08-20T17:32:42.932715",
     "exception": false,
     "start_time": "2024-08-20T17:32:42.918113",
     "status": "completed"
    },
    "tags": []
   },
   "source": [
    "# TRAINING"
   ]
  },
  {
   "cell_type": "code",
   "execution_count": 38,
   "id": "ad30822b",
   "metadata": {
    "execution": {
     "iopub.execute_input": "2024-08-20T17:32:42.964012Z",
     "iopub.status.busy": "2024-08-20T17:32:42.963648Z",
     "iopub.status.idle": "2024-08-20T17:33:34.382222Z",
     "shell.execute_reply": "2024-08-20T17:33:34.381243Z"
    },
    "papermill": {
     "duration": 51.451829,
     "end_time": "2024-08-20T17:33:34.399415",
     "exception": false,
     "start_time": "2024-08-20T17:32:42.947586",
     "status": "completed"
    },
    "tags": []
   },
   "outputs": [
    {
     "name": "stderr",
     "output_type": "stream",
     "text": [
      "/home/mdi220/.virtualenvs/skin/lib/python3.10/site-packages/lightgbm/engine.py:204: UserWarning: Found `n_iter` in params. Will use it instead of argument\n",
      "  _log_warning(f\"Found `{alias}` in params. Will use it instead of argument\")\n"
     ]
    },
    {
     "data": {
      "text/html": [
       "<style>#sk-container-id-1 {\n",
       "  /* Definition of color scheme common for light and dark mode */\n",
       "  --sklearn-color-text: black;\n",
       "  --sklearn-color-line: gray;\n",
       "  /* Definition of color scheme for unfitted estimators */\n",
       "  --sklearn-color-unfitted-level-0: #fff5e6;\n",
       "  --sklearn-color-unfitted-level-1: #f6e4d2;\n",
       "  --sklearn-color-unfitted-level-2: #ffe0b3;\n",
       "  --sklearn-color-unfitted-level-3: chocolate;\n",
       "  /* Definition of color scheme for fitted estimators */\n",
       "  --sklearn-color-fitted-level-0: #f0f8ff;\n",
       "  --sklearn-color-fitted-level-1: #d4ebff;\n",
       "  --sklearn-color-fitted-level-2: #b3dbfd;\n",
       "  --sklearn-color-fitted-level-3: cornflowerblue;\n",
       "\n",
       "  /* Specific color for light theme */\n",
       "  --sklearn-color-text-on-default-background: var(--sg-text-color, var(--theme-code-foreground, var(--jp-content-font-color1, black)));\n",
       "  --sklearn-color-background: var(--sg-background-color, var(--theme-background, var(--jp-layout-color0, white)));\n",
       "  --sklearn-color-border-box: var(--sg-text-color, var(--theme-code-foreground, var(--jp-content-font-color1, black)));\n",
       "  --sklearn-color-icon: #696969;\n",
       "\n",
       "  @media (prefers-color-scheme: dark) {\n",
       "    /* Redefinition of color scheme for dark theme */\n",
       "    --sklearn-color-text-on-default-background: var(--sg-text-color, var(--theme-code-foreground, var(--jp-content-font-color1, white)));\n",
       "    --sklearn-color-background: var(--sg-background-color, var(--theme-background, var(--jp-layout-color0, #111)));\n",
       "    --sklearn-color-border-box: var(--sg-text-color, var(--theme-code-foreground, var(--jp-content-font-color1, white)));\n",
       "    --sklearn-color-icon: #878787;\n",
       "  }\n",
       "}\n",
       "\n",
       "#sk-container-id-1 {\n",
       "  color: var(--sklearn-color-text);\n",
       "}\n",
       "\n",
       "#sk-container-id-1 pre {\n",
       "  padding: 0;\n",
       "}\n",
       "\n",
       "#sk-container-id-1 input.sk-hidden--visually {\n",
       "  border: 0;\n",
       "  clip: rect(1px 1px 1px 1px);\n",
       "  clip: rect(1px, 1px, 1px, 1px);\n",
       "  height: 1px;\n",
       "  margin: -1px;\n",
       "  overflow: hidden;\n",
       "  padding: 0;\n",
       "  position: absolute;\n",
       "  width: 1px;\n",
       "}\n",
       "\n",
       "#sk-container-id-1 div.sk-dashed-wrapped {\n",
       "  border: 1px dashed var(--sklearn-color-line);\n",
       "  margin: 0 0.4em 0.5em 0.4em;\n",
       "  box-sizing: border-box;\n",
       "  padding-bottom: 0.4em;\n",
       "  background-color: var(--sklearn-color-background);\n",
       "}\n",
       "\n",
       "#sk-container-id-1 div.sk-container {\n",
       "  /* jupyter's `normalize.less` sets `[hidden] { display: none; }`\n",
       "     but bootstrap.min.css set `[hidden] { display: none !important; }`\n",
       "     so we also need the `!important` here to be able to override the\n",
       "     default hidden behavior on the sphinx rendered scikit-learn.org.\n",
       "     See: https://github.com/scikit-learn/scikit-learn/issues/21755 */\n",
       "  display: inline-block !important;\n",
       "  position: relative;\n",
       "}\n",
       "\n",
       "#sk-container-id-1 div.sk-text-repr-fallback {\n",
       "  display: none;\n",
       "}\n",
       "\n",
       "div.sk-parallel-item,\n",
       "div.sk-serial,\n",
       "div.sk-item {\n",
       "  /* draw centered vertical line to link estimators */\n",
       "  background-image: linear-gradient(var(--sklearn-color-text-on-default-background), var(--sklearn-color-text-on-default-background));\n",
       "  background-size: 2px 100%;\n",
       "  background-repeat: no-repeat;\n",
       "  background-position: center center;\n",
       "}\n",
       "\n",
       "/* Parallel-specific style estimator block */\n",
       "\n",
       "#sk-container-id-1 div.sk-parallel-item::after {\n",
       "  content: \"\";\n",
       "  width: 100%;\n",
       "  border-bottom: 2px solid var(--sklearn-color-text-on-default-background);\n",
       "  flex-grow: 1;\n",
       "}\n",
       "\n",
       "#sk-container-id-1 div.sk-parallel {\n",
       "  display: flex;\n",
       "  align-items: stretch;\n",
       "  justify-content: center;\n",
       "  background-color: var(--sklearn-color-background);\n",
       "  position: relative;\n",
       "}\n",
       "\n",
       "#sk-container-id-1 div.sk-parallel-item {\n",
       "  display: flex;\n",
       "  flex-direction: column;\n",
       "}\n",
       "\n",
       "#sk-container-id-1 div.sk-parallel-item:first-child::after {\n",
       "  align-self: flex-end;\n",
       "  width: 50%;\n",
       "}\n",
       "\n",
       "#sk-container-id-1 div.sk-parallel-item:last-child::after {\n",
       "  align-self: flex-start;\n",
       "  width: 50%;\n",
       "}\n",
       "\n",
       "#sk-container-id-1 div.sk-parallel-item:only-child::after {\n",
       "  width: 0;\n",
       "}\n",
       "\n",
       "/* Serial-specific style estimator block */\n",
       "\n",
       "#sk-container-id-1 div.sk-serial {\n",
       "  display: flex;\n",
       "  flex-direction: column;\n",
       "  align-items: center;\n",
       "  background-color: var(--sklearn-color-background);\n",
       "  padding-right: 1em;\n",
       "  padding-left: 1em;\n",
       "}\n",
       "\n",
       "\n",
       "/* Toggleable style: style used for estimator/Pipeline/ColumnTransformer box that is\n",
       "clickable and can be expanded/collapsed.\n",
       "- Pipeline and ColumnTransformer use this feature and define the default style\n",
       "- Estimators will overwrite some part of the style using the `sk-estimator` class\n",
       "*/\n",
       "\n",
       "/* Pipeline and ColumnTransformer style (default) */\n",
       "\n",
       "#sk-container-id-1 div.sk-toggleable {\n",
       "  /* Default theme specific background. It is overwritten whether we have a\n",
       "  specific estimator or a Pipeline/ColumnTransformer */\n",
       "  background-color: var(--sklearn-color-background);\n",
       "}\n",
       "\n",
       "/* Toggleable label */\n",
       "#sk-container-id-1 label.sk-toggleable__label {\n",
       "  cursor: pointer;\n",
       "  display: block;\n",
       "  width: 100%;\n",
       "  margin-bottom: 0;\n",
       "  padding: 0.5em;\n",
       "  box-sizing: border-box;\n",
       "  text-align: center;\n",
       "}\n",
       "\n",
       "#sk-container-id-1 label.sk-toggleable__label-arrow:before {\n",
       "  /* Arrow on the left of the label */\n",
       "  content: \"▸\";\n",
       "  float: left;\n",
       "  margin-right: 0.25em;\n",
       "  color: var(--sklearn-color-icon);\n",
       "}\n",
       "\n",
       "#sk-container-id-1 label.sk-toggleable__label-arrow:hover:before {\n",
       "  color: var(--sklearn-color-text);\n",
       "}\n",
       "\n",
       "/* Toggleable content - dropdown */\n",
       "\n",
       "#sk-container-id-1 div.sk-toggleable__content {\n",
       "  max-height: 0;\n",
       "  max-width: 0;\n",
       "  overflow: hidden;\n",
       "  text-align: left;\n",
       "  /* unfitted */\n",
       "  background-color: var(--sklearn-color-unfitted-level-0);\n",
       "}\n",
       "\n",
       "#sk-container-id-1 div.sk-toggleable__content.fitted {\n",
       "  /* fitted */\n",
       "  background-color: var(--sklearn-color-fitted-level-0);\n",
       "}\n",
       "\n",
       "#sk-container-id-1 div.sk-toggleable__content pre {\n",
       "  margin: 0.2em;\n",
       "  border-radius: 0.25em;\n",
       "  color: var(--sklearn-color-text);\n",
       "  /* unfitted */\n",
       "  background-color: var(--sklearn-color-unfitted-level-0);\n",
       "}\n",
       "\n",
       "#sk-container-id-1 div.sk-toggleable__content.fitted pre {\n",
       "  /* unfitted */\n",
       "  background-color: var(--sklearn-color-fitted-level-0);\n",
       "}\n",
       "\n",
       "#sk-container-id-1 input.sk-toggleable__control:checked~div.sk-toggleable__content {\n",
       "  /* Expand drop-down */\n",
       "  max-height: 200px;\n",
       "  max-width: 100%;\n",
       "  overflow: auto;\n",
       "}\n",
       "\n",
       "#sk-container-id-1 input.sk-toggleable__control:checked~label.sk-toggleable__label-arrow:before {\n",
       "  content: \"▾\";\n",
       "}\n",
       "\n",
       "/* Pipeline/ColumnTransformer-specific style */\n",
       "\n",
       "#sk-container-id-1 div.sk-label input.sk-toggleable__control:checked~label.sk-toggleable__label {\n",
       "  color: var(--sklearn-color-text);\n",
       "  background-color: var(--sklearn-color-unfitted-level-2);\n",
       "}\n",
       "\n",
       "#sk-container-id-1 div.sk-label.fitted input.sk-toggleable__control:checked~label.sk-toggleable__label {\n",
       "  background-color: var(--sklearn-color-fitted-level-2);\n",
       "}\n",
       "\n",
       "/* Estimator-specific style */\n",
       "\n",
       "/* Colorize estimator box */\n",
       "#sk-container-id-1 div.sk-estimator input.sk-toggleable__control:checked~label.sk-toggleable__label {\n",
       "  /* unfitted */\n",
       "  background-color: var(--sklearn-color-unfitted-level-2);\n",
       "}\n",
       "\n",
       "#sk-container-id-1 div.sk-estimator.fitted input.sk-toggleable__control:checked~label.sk-toggleable__label {\n",
       "  /* fitted */\n",
       "  background-color: var(--sklearn-color-fitted-level-2);\n",
       "}\n",
       "\n",
       "#sk-container-id-1 div.sk-label label.sk-toggleable__label,\n",
       "#sk-container-id-1 div.sk-label label {\n",
       "  /* The background is the default theme color */\n",
       "  color: var(--sklearn-color-text-on-default-background);\n",
       "}\n",
       "\n",
       "/* On hover, darken the color of the background */\n",
       "#sk-container-id-1 div.sk-label:hover label.sk-toggleable__label {\n",
       "  color: var(--sklearn-color-text);\n",
       "  background-color: var(--sklearn-color-unfitted-level-2);\n",
       "}\n",
       "\n",
       "/* Label box, darken color on hover, fitted */\n",
       "#sk-container-id-1 div.sk-label.fitted:hover label.sk-toggleable__label.fitted {\n",
       "  color: var(--sklearn-color-text);\n",
       "  background-color: var(--sklearn-color-fitted-level-2);\n",
       "}\n",
       "\n",
       "/* Estimator label */\n",
       "\n",
       "#sk-container-id-1 div.sk-label label {\n",
       "  font-family: monospace;\n",
       "  font-weight: bold;\n",
       "  display: inline-block;\n",
       "  line-height: 1.2em;\n",
       "}\n",
       "\n",
       "#sk-container-id-1 div.sk-label-container {\n",
       "  text-align: center;\n",
       "}\n",
       "\n",
       "/* Estimator-specific */\n",
       "#sk-container-id-1 div.sk-estimator {\n",
       "  font-family: monospace;\n",
       "  border: 1px dotted var(--sklearn-color-border-box);\n",
       "  border-radius: 0.25em;\n",
       "  box-sizing: border-box;\n",
       "  margin-bottom: 0.5em;\n",
       "  /* unfitted */\n",
       "  background-color: var(--sklearn-color-unfitted-level-0);\n",
       "}\n",
       "\n",
       "#sk-container-id-1 div.sk-estimator.fitted {\n",
       "  /* fitted */\n",
       "  background-color: var(--sklearn-color-fitted-level-0);\n",
       "}\n",
       "\n",
       "/* on hover */\n",
       "#sk-container-id-1 div.sk-estimator:hover {\n",
       "  /* unfitted */\n",
       "  background-color: var(--sklearn-color-unfitted-level-2);\n",
       "}\n",
       "\n",
       "#sk-container-id-1 div.sk-estimator.fitted:hover {\n",
       "  /* fitted */\n",
       "  background-color: var(--sklearn-color-fitted-level-2);\n",
       "}\n",
       "\n",
       "/* Specification for estimator info (e.g. \"i\" and \"?\") */\n",
       "\n",
       "/* Common style for \"i\" and \"?\" */\n",
       "\n",
       ".sk-estimator-doc-link,\n",
       "a:link.sk-estimator-doc-link,\n",
       "a:visited.sk-estimator-doc-link {\n",
       "  float: right;\n",
       "  font-size: smaller;\n",
       "  line-height: 1em;\n",
       "  font-family: monospace;\n",
       "  background-color: var(--sklearn-color-background);\n",
       "  border-radius: 1em;\n",
       "  height: 1em;\n",
       "  width: 1em;\n",
       "  text-decoration: none !important;\n",
       "  margin-left: 1ex;\n",
       "  /* unfitted */\n",
       "  border: var(--sklearn-color-unfitted-level-1) 1pt solid;\n",
       "  color: var(--sklearn-color-unfitted-level-1);\n",
       "}\n",
       "\n",
       ".sk-estimator-doc-link.fitted,\n",
       "a:link.sk-estimator-doc-link.fitted,\n",
       "a:visited.sk-estimator-doc-link.fitted {\n",
       "  /* fitted */\n",
       "  border: var(--sklearn-color-fitted-level-1) 1pt solid;\n",
       "  color: var(--sklearn-color-fitted-level-1);\n",
       "}\n",
       "\n",
       "/* On hover */\n",
       "div.sk-estimator:hover .sk-estimator-doc-link:hover,\n",
       ".sk-estimator-doc-link:hover,\n",
       "div.sk-label-container:hover .sk-estimator-doc-link:hover,\n",
       ".sk-estimator-doc-link:hover {\n",
       "  /* unfitted */\n",
       "  background-color: var(--sklearn-color-unfitted-level-3);\n",
       "  color: var(--sklearn-color-background);\n",
       "  text-decoration: none;\n",
       "}\n",
       "\n",
       "div.sk-estimator.fitted:hover .sk-estimator-doc-link.fitted:hover,\n",
       ".sk-estimator-doc-link.fitted:hover,\n",
       "div.sk-label-container:hover .sk-estimator-doc-link.fitted:hover,\n",
       ".sk-estimator-doc-link.fitted:hover {\n",
       "  /* fitted */\n",
       "  background-color: var(--sklearn-color-fitted-level-3);\n",
       "  color: var(--sklearn-color-background);\n",
       "  text-decoration: none;\n",
       "}\n",
       "\n",
       "/* Span, style for the box shown on hovering the info icon */\n",
       ".sk-estimator-doc-link span {\n",
       "  display: none;\n",
       "  z-index: 9999;\n",
       "  position: relative;\n",
       "  font-weight: normal;\n",
       "  right: .2ex;\n",
       "  padding: .5ex;\n",
       "  margin: .5ex;\n",
       "  width: min-content;\n",
       "  min-width: 20ex;\n",
       "  max-width: 50ex;\n",
       "  color: var(--sklearn-color-text);\n",
       "  box-shadow: 2pt 2pt 4pt #999;\n",
       "  /* unfitted */\n",
       "  background: var(--sklearn-color-unfitted-level-0);\n",
       "  border: .5pt solid var(--sklearn-color-unfitted-level-3);\n",
       "}\n",
       "\n",
       ".sk-estimator-doc-link.fitted span {\n",
       "  /* fitted */\n",
       "  background: var(--sklearn-color-fitted-level-0);\n",
       "  border: var(--sklearn-color-fitted-level-3);\n",
       "}\n",
       "\n",
       ".sk-estimator-doc-link:hover span {\n",
       "  display: block;\n",
       "}\n",
       "\n",
       "/* \"?\"-specific style due to the `<a>` HTML tag */\n",
       "\n",
       "#sk-container-id-1 a.estimator_doc_link {\n",
       "  float: right;\n",
       "  font-size: 1rem;\n",
       "  line-height: 1em;\n",
       "  font-family: monospace;\n",
       "  background-color: var(--sklearn-color-background);\n",
       "  border-radius: 1rem;\n",
       "  height: 1rem;\n",
       "  width: 1rem;\n",
       "  text-decoration: none;\n",
       "  /* unfitted */\n",
       "  color: var(--sklearn-color-unfitted-level-1);\n",
       "  border: var(--sklearn-color-unfitted-level-1) 1pt solid;\n",
       "}\n",
       "\n",
       "#sk-container-id-1 a.estimator_doc_link.fitted {\n",
       "  /* fitted */\n",
       "  border: var(--sklearn-color-fitted-level-1) 1pt solid;\n",
       "  color: var(--sklearn-color-fitted-level-1);\n",
       "}\n",
       "\n",
       "/* On hover */\n",
       "#sk-container-id-1 a.estimator_doc_link:hover {\n",
       "  /* unfitted */\n",
       "  background-color: var(--sklearn-color-unfitted-level-3);\n",
       "  color: var(--sklearn-color-background);\n",
       "  text-decoration: none;\n",
       "}\n",
       "\n",
       "#sk-container-id-1 a.estimator_doc_link.fitted:hover {\n",
       "  /* fitted */\n",
       "  background-color: var(--sklearn-color-fitted-level-3);\n",
       "}\n",
       "</style><div id=\"sk-container-id-1\" class=\"sk-top-container\"><div class=\"sk-text-repr-fallback\"><pre>VotingClassifier(estimators=[(&#x27;lgb&#x27;,\n",
       "                              Pipeline(steps=[(&#x27;sampler_1&#x27;,\n",
       "                                               RandomOverSampler(random_state=42,\n",
       "                                                                 sampling_strategy=0.003)),\n",
       "                                              (&#x27;sampler_2&#x27;,\n",
       "                                               RandomUnderSampler(random_state=42,\n",
       "                                                                  sampling_strategy=0.01)),\n",
       "                                              (&#x27;filter&#x27;,\n",
       "                                               SelectColumns(columns=[&#x27;age_approx&#x27;,\n",
       "                                                                      &#x27;clin_size_long_diam_mm&#x27;,\n",
       "                                                                      &#x27;tbp_lv_A&#x27;,\n",
       "                                                                      &#x27;tbp_lv_Aext&#x27;,\n",
       "                                                                      &#x27;tbp_lv_B&#x27;,\n",
       "                                                                      &#x27;tbp_lv_Bext&#x27;,\n",
       "                                                                      &#x27;tbp_lv_C&#x27;,\n",
       "                                                                      &#x27;tbp_lv_Cext&#x27;,\n",
       "                                                                      &#x27;tbp_l...\n",
       "                                                             interaction_constraints=None,\n",
       "                                                             lambda=8.879624125465703,\n",
       "                                                             learning_rate=0.08501257473292347,\n",
       "                                                             max_bin=None,\n",
       "                                                             max_cat_threshold=None,\n",
       "                                                             max_cat_to_onehot=None,\n",
       "                                                             max_delta_step=None,\n",
       "                                                             max_depth=6,\n",
       "                                                             max_leaves=None,\n",
       "                                                             min_child_weight=None,\n",
       "                                                             missing=nan,\n",
       "                                                             monotone_constraints=None,\n",
       "                                                             multi_strategy=None,\n",
       "                                                             n_estimators=None,\n",
       "                                                             n_jobs=None, ...))]))],\n",
       "                 voting=&#x27;soft&#x27;, weights=[0.3, 0.47, 0.28])</pre><b>In a Jupyter environment, please rerun this cell to show the HTML representation or trust the notebook. <br />On GitHub, the HTML representation is unable to render, please try loading this page with nbviewer.org.</b></div><div class=\"sk-container\" hidden><div class=\"sk-item sk-dashed-wrapped\"><div class=\"sk-label-container\"><div class=\"sk-label fitted sk-toggleable\"><input class=\"sk-toggleable__control sk-hidden--visually\" id=\"sk-estimator-id-1\" type=\"checkbox\" ><label for=\"sk-estimator-id-1\" class=\"sk-toggleable__label fitted sk-toggleable__label-arrow fitted\">&nbsp;&nbsp;VotingClassifier<a class=\"sk-estimator-doc-link fitted\" rel=\"noreferrer\" target=\"_blank\" href=\"https://scikit-learn.org/1.5/modules/generated/sklearn.ensemble.VotingClassifier.html\">?<span>Documentation for VotingClassifier</span></a><span class=\"sk-estimator-doc-link fitted\">i<span>Fitted</span></span></label><div class=\"sk-toggleable__content fitted\"><pre>VotingClassifier(estimators=[(&#x27;lgb&#x27;,\n",
       "                              Pipeline(steps=[(&#x27;sampler_1&#x27;,\n",
       "                                               RandomOverSampler(random_state=42,\n",
       "                                                                 sampling_strategy=0.003)),\n",
       "                                              (&#x27;sampler_2&#x27;,\n",
       "                                               RandomUnderSampler(random_state=42,\n",
       "                                                                  sampling_strategy=0.01)),\n",
       "                                              (&#x27;filter&#x27;,\n",
       "                                               SelectColumns(columns=[&#x27;age_approx&#x27;,\n",
       "                                                                      &#x27;clin_size_long_diam_mm&#x27;,\n",
       "                                                                      &#x27;tbp_lv_A&#x27;,\n",
       "                                                                      &#x27;tbp_lv_Aext&#x27;,\n",
       "                                                                      &#x27;tbp_lv_B&#x27;,\n",
       "                                                                      &#x27;tbp_lv_Bext&#x27;,\n",
       "                                                                      &#x27;tbp_lv_C&#x27;,\n",
       "                                                                      &#x27;tbp_lv_Cext&#x27;,\n",
       "                                                                      &#x27;tbp_l...\n",
       "                                                             interaction_constraints=None,\n",
       "                                                             lambda=8.879624125465703,\n",
       "                                                             learning_rate=0.08501257473292347,\n",
       "                                                             max_bin=None,\n",
       "                                                             max_cat_threshold=None,\n",
       "                                                             max_cat_to_onehot=None,\n",
       "                                                             max_delta_step=None,\n",
       "                                                             max_depth=6,\n",
       "                                                             max_leaves=None,\n",
       "                                                             min_child_weight=None,\n",
       "                                                             missing=nan,\n",
       "                                                             monotone_constraints=None,\n",
       "                                                             multi_strategy=None,\n",
       "                                                             n_estimators=None,\n",
       "                                                             n_jobs=None, ...))]))],\n",
       "                 voting=&#x27;soft&#x27;, weights=[0.3, 0.47, 0.28])</pre></div> </div></div><div class=\"sk-parallel\"><div class=\"sk-parallel-item\"><div class=\"sk-item\"><div class=\"sk-label-container\"><div class=\"sk-label fitted sk-toggleable\"><label>lgb</label></div></div><div class=\"sk-serial\"><div class=\"sk-item\"><div class=\"sk-serial\"><div class=\"sk-item\"><div class=\"sk-estimator fitted sk-toggleable\"><input class=\"sk-toggleable__control sk-hidden--visually\" id=\"sk-estimator-id-2\" type=\"checkbox\" ><label for=\"sk-estimator-id-2\" class=\"sk-toggleable__label fitted sk-toggleable__label-arrow fitted\">RandomOverSampler</label><div class=\"sk-toggleable__content fitted\"><pre>RandomOverSampler(random_state=42, sampling_strategy=0.003)</pre></div> </div></div><div class=\"sk-item\"><div class=\"sk-estimator fitted sk-toggleable\"><input class=\"sk-toggleable__control sk-hidden--visually\" id=\"sk-estimator-id-3\" type=\"checkbox\" ><label for=\"sk-estimator-id-3\" class=\"sk-toggleable__label fitted sk-toggleable__label-arrow fitted\">RandomUnderSampler</label><div class=\"sk-toggleable__content fitted\"><pre>RandomUnderSampler(random_state=42, sampling_strategy=0.01)</pre></div> </div></div><div class=\"sk-item\"><div class=\"sk-estimator fitted sk-toggleable\"><input class=\"sk-toggleable__control sk-hidden--visually\" id=\"sk-estimator-id-4\" type=\"checkbox\" ><label for=\"sk-estimator-id-4\" class=\"sk-toggleable__label fitted sk-toggleable__label-arrow fitted\">SelectColumns</label><div class=\"sk-toggleable__content fitted\"><pre>SelectColumns(columns=[&#x27;age_approx&#x27;, &#x27;clin_size_long_diam_mm&#x27;, &#x27;tbp_lv_A&#x27;,\n",
       "                       &#x27;tbp_lv_Aext&#x27;, &#x27;tbp_lv_B&#x27;, &#x27;tbp_lv_Bext&#x27;, &#x27;tbp_lv_C&#x27;,\n",
       "                       &#x27;tbp_lv_Cext&#x27;, &#x27;tbp_lv_H&#x27;, &#x27;tbp_lv_Hext&#x27;, &#x27;tbp_lv_L&#x27;,\n",
       "                       &#x27;tbp_lv_Lext&#x27;, &#x27;tbp_lv_areaMM2&#x27;,\n",
       "                       &#x27;tbp_lv_area_perim_ratio&#x27;, &#x27;tbp_lv_color_std_mean&#x27;,\n",
       "                       &#x27;tbp_lv_deltaA&#x27;, &#x27;tbp_lv_deltaB&#x27;, &#x27;tbp_lv_deltaL&#x27;,\n",
       "                       &#x27;tbp_lv_deltaLB&#x27;, &#x27;tbp_lv_deltaLBnorm&#x27;,\n",
       "                       &#x27;tbp_lv_eccentricity&#x27;, &#x27;tbp_lv_minorAxisMM&#x27;,\n",
       "                       &#x27;tbp_lv_nevi_confidence&#x27;, &#x27;tbp_lv_norm_border&#x27;,\n",
       "                       &#x27;tbp_lv_norm_color&#x27;, &#x27;tbp_lv_perimeterMM&#x27;,\n",
       "                       &#x27;tbp_lv_radial_color_std_max&#x27;, &#x27;tbp_lv_stdL&#x27;,\n",
       "                       &#x27;tbp_lv_stdLExt&#x27;, &#x27;tbp_lv_symm_2axis&#x27;, ...])</pre></div> </div></div><div class=\"sk-item\"><div class=\"sk-estimator fitted sk-toggleable\"><input class=\"sk-toggleable__control sk-hidden--visually\" id=\"sk-estimator-id-5\" type=\"checkbox\" ><label for=\"sk-estimator-id-5\" class=\"sk-toggleable__label fitted sk-toggleable__label-arrow fitted\">LGBMClassifier</label><div class=\"sk-toggleable__content fitted\"><pre>LGBMClassifier(bagging_fraction=0.7738954452473223, bagging_freq=4,\n",
       "               colsample_bynode=0.4025961355653304,\n",
       "               colsample_bytree=0.8329551585827726,\n",
       "               lambda_l1=0.08758718919397321, lambda_l2=0.0039689175176025465,\n",
       "               learning_rate=0.03231007103195577, max_depth=4,\n",
       "               min_data_in_leaf=85, n_iter=200, num_leaves=103,\n",
       "               objective=&#x27;binary&#x27;, random_state=42,\n",
       "               scale_pos_weight=2.7984184778875543, verbosity=-1)</pre></div> </div></div></div></div></div></div></div><div class=\"sk-parallel-item\"><div class=\"sk-item\"><div class=\"sk-label-container\"><div class=\"sk-label fitted sk-toggleable\"><label>cb</label></div></div><div class=\"sk-serial\"><div class=\"sk-item\"><div class=\"sk-serial\"><div class=\"sk-item\"><div class=\"sk-estimator fitted sk-toggleable\"><input class=\"sk-toggleable__control sk-hidden--visually\" id=\"sk-estimator-id-6\" type=\"checkbox\" ><label for=\"sk-estimator-id-6\" class=\"sk-toggleable__label fitted sk-toggleable__label-arrow fitted\">RandomOverSampler</label><div class=\"sk-toggleable__content fitted\"><pre>RandomOverSampler(random_state=42, sampling_strategy=0.003)</pre></div> </div></div><div class=\"sk-item\"><div class=\"sk-estimator fitted sk-toggleable\"><input class=\"sk-toggleable__control sk-hidden--visually\" id=\"sk-estimator-id-7\" type=\"checkbox\" ><label for=\"sk-estimator-id-7\" class=\"sk-toggleable__label fitted sk-toggleable__label-arrow fitted\">RandomUnderSampler</label><div class=\"sk-toggleable__content fitted\"><pre>RandomUnderSampler(random_state=42, sampling_strategy=0.01)</pre></div> </div></div><div class=\"sk-item\"><div class=\"sk-estimator fitted sk-toggleable\"><input class=\"sk-toggleable__control sk-hidden--visually\" id=\"sk-estimator-id-8\" type=\"checkbox\" ><label for=\"sk-estimator-id-8\" class=\"sk-toggleable__label fitted sk-toggleable__label-arrow fitted\">CatBoostClassifier</label><div class=\"sk-toggleable__content fitted\"><pre>&lt;catboost.core.CatBoostClassifier object at 0x759ac427a080&gt;</pre></div> </div></div></div></div></div></div></div><div class=\"sk-parallel-item\"><div class=\"sk-item\"><div class=\"sk-label-container\"><div class=\"sk-label fitted sk-toggleable\"><label>xgb</label></div></div><div class=\"sk-serial\"><div class=\"sk-item\"><div class=\"sk-serial\"><div class=\"sk-item\"><div class=\"sk-estimator fitted sk-toggleable\"><input class=\"sk-toggleable__control sk-hidden--visually\" id=\"sk-estimator-id-9\" type=\"checkbox\" ><label for=\"sk-estimator-id-9\" class=\"sk-toggleable__label fitted sk-toggleable__label-arrow fitted\">RandomOverSampler</label><div class=\"sk-toggleable__content fitted\"><pre>RandomOverSampler(random_state=42, sampling_strategy=0.003)</pre></div> </div></div><div class=\"sk-item\"><div class=\"sk-estimator fitted sk-toggleable\"><input class=\"sk-toggleable__control sk-hidden--visually\" id=\"sk-estimator-id-10\" type=\"checkbox\" ><label for=\"sk-estimator-id-10\" class=\"sk-toggleable__label fitted sk-toggleable__label-arrow fitted\">RandomUnderSampler</label><div class=\"sk-toggleable__content fitted\"><pre>RandomUnderSampler(random_state=42, sampling_strategy=0.01)</pre></div> </div></div><div class=\"sk-item\"><div class=\"sk-estimator fitted sk-toggleable\"><input class=\"sk-toggleable__control sk-hidden--visually\" id=\"sk-estimator-id-11\" type=\"checkbox\" ><label for=\"sk-estimator-id-11\" class=\"sk-toggleable__label fitted sk-toggleable__label-arrow fitted\">XGBClassifier</label><div class=\"sk-toggleable__content fitted\"><pre>XGBClassifier(alpha=0.6779926606782505, base_score=None, booster=None,\n",
       "              callbacks=None, colsample_bylevel=0.5476090898823716,\n",
       "              colsample_bynode=0.9928601203635129,\n",
       "              colsample_bytree=0.8437772277074493, device=None,\n",
       "              early_stopping_rounds=None, enable_categorical=True,\n",
       "              eval_metric=None, feature_types=None, gamma=None,\n",
       "              grow_policy=None, importance_type=None,\n",
       "              interaction_constraints=None, lambda=8.879624125465703,\n",
       "              learning_rate=0.08501257473292347, max_bin=None,\n",
       "              max_cat_threshold=None, max_cat_to_onehot=None,\n",
       "              max_delta_step=None, max_depth=6, max_leaves=None,\n",
       "              min_child_weight=None, missing=nan, monotone_constraints=None,\n",
       "              multi_strategy=None, n_estimators=None, n_jobs=None, ...)</pre></div> </div></div></div></div></div></div></div></div></div></div></div>"
      ],
      "text/plain": [
       "VotingClassifier(estimators=[('lgb',\n",
       "                              Pipeline(steps=[('sampler_1',\n",
       "                                               RandomOverSampler(random_state=42,\n",
       "                                                                 sampling_strategy=0.003)),\n",
       "                                              ('sampler_2',\n",
       "                                               RandomUnderSampler(random_state=42,\n",
       "                                                                  sampling_strategy=0.01)),\n",
       "                                              ('filter',\n",
       "                                               SelectColumns(columns=['age_approx',\n",
       "                                                                      'clin_size_long_diam_mm',\n",
       "                                                                      'tbp_lv_A',\n",
       "                                                                      'tbp_lv_Aext',\n",
       "                                                                      'tbp_lv_B',\n",
       "                                                                      'tbp_lv_Bext',\n",
       "                                                                      'tbp_lv_C',\n",
       "                                                                      'tbp_lv_Cext',\n",
       "                                                                      'tbp_l...\n",
       "                                                             interaction_constraints=None,\n",
       "                                                             lambda=8.879624125465703,\n",
       "                                                             learning_rate=0.08501257473292347,\n",
       "                                                             max_bin=None,\n",
       "                                                             max_cat_threshold=None,\n",
       "                                                             max_cat_to_onehot=None,\n",
       "                                                             max_delta_step=None,\n",
       "                                                             max_depth=6,\n",
       "                                                             max_leaves=None,\n",
       "                                                             min_child_weight=None,\n",
       "                                                             missing=nan,\n",
       "                                                             monotone_constraints=None,\n",
       "                                                             multi_strategy=None,\n",
       "                                                             n_estimators=None,\n",
       "                                                             n_jobs=None, ...))]))],\n",
       "                 voting='soft', weights=[0.3, 0.47, 0.28])"
      ]
     },
     "execution_count": 38,
     "metadata": {},
     "output_type": "execute_result"
    }
   ],
   "source": [
    "X, y = df_train[feature_cols], df_train[target_col]\n",
    "\n",
    "estimator.fit(X, y)"
   ]
  },
  {
   "cell_type": "markdown",
   "id": "5fc7aaed",
   "metadata": {
    "papermill": {
     "duration": 0.01517,
     "end_time": "2024-08-20T17:33:34.429755",
     "exception": false,
     "start_time": "2024-08-20T17:33:34.414585",
     "status": "completed"
    },
    "tags": []
   },
   "source": [
    "# LOOKING FOR FEATURE IMPORTANCE(lgb + xgb)"
   ]
  },
  {
   "cell_type": "code",
   "execution_count": 39,
   "id": "d7cfecf7",
   "metadata": {
    "execution": {
     "iopub.execute_input": "2024-08-20T17:33:34.462538Z",
     "iopub.status.busy": "2024-08-20T17:33:34.461658Z",
     "iopub.status.idle": "2024-08-20T17:33:34.466134Z",
     "shell.execute_reply": "2024-08-20T17:33:34.465241Z"
    },
    "papermill": {
     "duration": 0.02279,
     "end_time": "2024-08-20T17:33:34.467981",
     "exception": false,
     "start_time": "2024-08-20T17:33:34.445191",
     "status": "completed"
    },
    "tags": []
   },
   "outputs": [],
   "source": [
    "DO_FEATURE_IMPORTANCE_MODELS = False"
   ]
  },
  {
   "cell_type": "code",
   "execution_count": 40,
   "id": "22a473f2",
   "metadata": {
    "execution": {
     "iopub.execute_input": "2024-08-20T17:33:34.500058Z",
     "iopub.status.busy": "2024-08-20T17:33:34.499686Z",
     "iopub.status.idle": "2024-08-20T17:33:34.506693Z",
     "shell.execute_reply": "2024-08-20T17:33:34.505732Z"
    },
    "papermill": {
     "duration": 0.025336,
     "end_time": "2024-08-20T17:33:34.508608",
     "exception": false,
     "start_time": "2024-08-20T17:33:34.483272",
     "status": "completed"
    },
    "tags": []
   },
   "outputs": [],
   "source": [
    "if DO_FEATURE_IMPORTANCE_MODELS:\n",
    "    lgb_model = estimator.named_estimators_['lgb'].named_steps['classifier']\n",
    "    lgb_feature_importance = lgb_model.booster_.feature_importance(importance_type='gain')\n",
    "    lgb_feature_importance_df = pd.DataFrame({\n",
    "        'feature': X.columns,\n",
    "        'importance': lgb_feature_importance\n",
    "    }).sort_values(by='importance', ascending=False)\n",
    "\n",
    "\n",
    "    xgb_model = estimator.named_estimators_['xgb'].named_steps['classifier']\n",
    "    xgb_feature_importance = xgb_model.get_booster().get_score(importance_type='weight')\n",
    "    xgb_feature_importance_df = pd.DataFrame({\n",
    "        'feature': xgb_feature_importance.keys(),\n",
    "        'importance': xgb_feature_importance.values()\n",
    "    }).sort_values(by='importance', ascending=False)\n",
    "\n",
    "\n"
   ]
  },
  {
   "cell_type": "code",
   "execution_count": 41,
   "id": "3c4c0a99",
   "metadata": {
    "execution": {
     "iopub.execute_input": "2024-08-20T17:33:34.541278Z",
     "iopub.status.busy": "2024-08-20T17:33:34.540414Z",
     "iopub.status.idle": "2024-08-20T17:33:34.545032Z",
     "shell.execute_reply": "2024-08-20T17:33:34.544107Z"
    },
    "papermill": {
     "duration": 0.023011,
     "end_time": "2024-08-20T17:33:34.546985",
     "exception": false,
     "start_time": "2024-08-20T17:33:34.523974",
     "status": "completed"
    },
    "tags": []
   },
   "outputs": [],
   "source": [
    "if DO_FEATURE_IMPORTANCE_MODELS:\n",
    "\n",
    "    print(lgb_feature_importance_df)\n",
    "    print(xgb_feature_importance_df)"
   ]
  },
  {
   "cell_type": "markdown",
   "id": "7a33f8e1",
   "metadata": {
    "papermill": {
     "duration": 0.015061,
     "end_time": "2024-08-20T17:33:34.577359",
     "exception": false,
     "start_time": "2024-08-20T17:33:34.562298",
     "status": "completed"
    },
    "tags": []
   },
   "source": [
    "# LEAST IMPORTANT FEATURES"
   ]
  },
  {
   "cell_type": "code",
   "execution_count": 42,
   "id": "bfa52f05",
   "metadata": {
    "execution": {
     "iopub.execute_input": "2024-08-20T17:33:34.609584Z",
     "iopub.status.busy": "2024-08-20T17:33:34.609223Z",
     "iopub.status.idle": "2024-08-20T17:33:34.614721Z",
     "shell.execute_reply": "2024-08-20T17:33:34.613777Z"
    },
    "papermill": {
     "duration": 0.024052,
     "end_time": "2024-08-20T17:33:34.616625",
     "exception": false,
     "start_time": "2024-08-20T17:33:34.592573",
     "status": "completed"
    },
    "tags": []
   },
   "outputs": [],
   "source": [
    "if DO_FEATURE_IMPORTANCE_MODELS:\n",
    "\n",
    "    # Assuming lgb_feature_importance_df is already created and contains the feature importances\n",
    "    least_important_lgb = lgb_feature_importance_df.sort_values(by='importance').head(24)\n",
    "\n",
    "    print(\"Least Important Features in LightGBM:\")\n",
    "    print(least_important_lgb)\n",
    "\n",
    "    # Convert the xgb_feature_importance to a DataFrame for easier manipulation\n",
    "    least_important_xgb = xgb_feature_importance_df.sort_values(by = \"importance\").head(6)\n",
    "\n",
    "\n",
    "    print(\"\\nLeast Important Features in XGBoost:\")\n",
    "    print(least_important_xgb)"
   ]
  },
  {
   "cell_type": "code",
   "execution_count": 43,
   "id": "75a58d24",
   "metadata": {
    "execution": {
     "iopub.execute_input": "2024-08-20T17:33:34.649701Z",
     "iopub.status.busy": "2024-08-20T17:33:34.648712Z",
     "iopub.status.idle": "2024-08-20T17:33:34.654229Z",
     "shell.execute_reply": "2024-08-20T17:33:34.653445Z"
    },
    "papermill": {
     "duration": 0.024209,
     "end_time": "2024-08-20T17:33:34.656265",
     "exception": false,
     "start_time": "2024-08-20T17:33:34.632056",
     "status": "completed"
    },
    "tags": []
   },
   "outputs": [],
   "source": [
    "if DO_FEATURE_IMPORTANCE_MODELS:\n",
    "\n",
    "    # Extract the least important feature names from both LightGBM and XGBoost\n",
    "    least_important_lgb_features = least_important_lgb['feature'].tolist()\n",
    "    least_important_xgb_features = least_important_xgb['feature'].tolist()\n",
    "\n",
    "    # Find the intersection of the two lists\n",
    "    common_least_important_features = list(set(least_important_lgb_features) & set(least_important_xgb_features))\n",
    "\n",
    "    print(\"Common Least Important Features in Both LightGBM and XGBoost:\")\n",
    "    print(common_least_important_features)\n"
   ]
  },
  {
   "cell_type": "markdown",
   "id": "11645ef3",
   "metadata": {
    "papermill": {
     "duration": 0.01487,
     "end_time": "2024-08-20T17:33:34.686528",
     "exception": false,
     "start_time": "2024-08-20T17:33:34.671658",
     "status": "completed"
    },
    "tags": []
   },
   "source": [
    "# LOOKING FOR FEATURE IMPORTANCE(Tests)"
   ]
  },
  {
   "cell_type": "code",
   "execution_count": 44,
   "id": "fede83bc",
   "metadata": {
    "execution": {
     "iopub.execute_input": "2024-08-20T17:33:34.718195Z",
     "iopub.status.busy": "2024-08-20T17:33:34.717794Z",
     "iopub.status.idle": "2024-08-20T17:33:34.722062Z",
     "shell.execute_reply": "2024-08-20T17:33:34.721135Z"
    },
    "papermill": {
     "duration": 0.022366,
     "end_time": "2024-08-20T17:33:34.724023",
     "exception": false,
     "start_time": "2024-08-20T17:33:34.701657",
     "status": "completed"
    },
    "tags": []
   },
   "outputs": [],
   "source": [
    "DO_FEATURE_IMPORTANCE_TEST = False"
   ]
  },
  {
   "cell_type": "code",
   "execution_count": 45,
   "id": "e69218d5",
   "metadata": {
    "execution": {
     "iopub.execute_input": "2024-08-20T17:33:34.756331Z",
     "iopub.status.busy": "2024-08-20T17:33:34.755968Z",
     "iopub.status.idle": "2024-08-20T17:33:34.766905Z",
     "shell.execute_reply": "2024-08-20T17:33:34.765880Z"
    },
    "papermill": {
     "duration": 0.029496,
     "end_time": "2024-08-20T17:33:34.768859",
     "exception": false,
     "start_time": "2024-08-20T17:33:34.739363",
     "status": "completed"
    },
    "tags": []
   },
   "outputs": [],
   "source": [
    "if DO_FEATURE_IMPORTANCE_TEST:\n",
    "    X = df_train[feature_cols]\n",
    "    y = df_train[target_col]\n",
    "\n",
    "    # Separate continuous and categorical features\n",
    "    continuous_features = num_cols + norm_cols + new_num_cols\n",
    "    # Fill null values of continuous features with their median values\n",
    "    X[continuous_features] = X[continuous_features].apply(lambda x: x.fillna(x.median()))\n",
    "\n",
    "\n",
    "    # Correlation Matrix for continuous features\n",
    "    corr_matrix = df_train[continuous_features + ['target']].corr()\n",
    "    threshold = 0.01\n",
    "    relevant_features_corr = corr_matrix[abs(corr_matrix['target']) > threshold].index\n",
    "    selected_features_corr = relevant_features_corr.drop('target')\n",
    "    print(\"Selected continuous features based on correlation threshold:\")\n",
    "    print(selected_features_corr)\n",
    "    print(len(selected_features_corr))\n",
    "\n",
    "    # Chi-Square Test for categorical features\n",
    "    chi2_selector = SelectKBest(chi2, k=15)\n",
    "    chi2_selector.fit_transform(X[cat_cols], y)\n",
    "    selected_features_chi2 = X[cat_cols].columns[chi2_selector.get_support()]\n",
    "    print(\"Selected categorical features based on Chi-Square Test:\")\n",
    "    print(selected_features_chi2)\n",
    "\n",
    "    # Mutual Information for all features\n",
    "    mi_selector = SelectKBest(mutual_info_classif, k=15)\n",
    "    mi_selector.fit_transform(X, y)\n",
    "    selected_features_mi = X.columns[mi_selector.get_support()]\n",
    "    print(\"Selected features based on Mutual Information:\")\n",
    "    print(selected_features_mi)\n",
    "\n",
    "    # Variance Threshold for continuous features\n",
    "    threshold = 0.05\n",
    "    var_threshold = VarianceThreshold(threshold=threshold)\n",
    "    var_threshold.fit_transform(X[continuous_features])\n",
    "    selected_features_var = X[continuous_features].columns[var_threshold.get_support()]\n",
    "    print(\"Selected continuous features based on Variance Threshold:\")\n",
    "    print(selected_features_var)\n",
    "    print(len(selected_features_var))\n",
    "\n",
    "\n",
    "    # Combine all selected features\n",
    "    selected_features_all = set(selected_features_corr) | set(selected_features_chi2) | set(selected_features_mi) | set(selected_features_var)\n",
    "\n",
    "    # Original features\n",
    "    original_features = set(X.columns)\n",
    "\n",
    "    # Find features not selected by any method\n",
    "    least_selected_features = original_features - selected_features_all\n",
    "\n",
    "    boosting_selected_features = set()\n",
    "\n",
    "    least_selected_features_list = list(least_selected_features | boosting_selected_features)\n",
    "\n",
    "    print(least_selected_features)"
   ]
  },
  {
   "cell_type": "markdown",
   "id": "92a9ec31",
   "metadata": {
    "papermill": {
     "duration": 0.014863,
     "end_time": "2024-08-20T17:33:34.798917",
     "exception": false,
     "start_time": "2024-08-20T17:33:34.784054",
     "status": "completed"
    },
    "tags": []
   },
   "source": [
    "# TEST PREDICTION"
   ]
  },
  {
   "cell_type": "code",
   "execution_count": 46,
   "id": "87bce0dd",
   "metadata": {
    "execution": {
     "iopub.execute_input": "2024-08-20T17:33:34.830633Z",
     "iopub.status.busy": "2024-08-20T17:33:34.830294Z",
     "iopub.status.idle": "2024-08-20T17:33:34.936131Z",
     "shell.execute_reply": "2024-08-20T17:33:34.935289Z"
    },
    "papermill": {
     "duration": 0.127543,
     "end_time": "2024-08-20T17:33:34.941427",
     "exception": false,
     "start_time": "2024-08-20T17:33:34.813884",
     "status": "completed"
    },
    "tags": []
   },
   "outputs": [
    {
     "data": {
      "text/html": [
       "<div>\n",
       "<style scoped>\n",
       "    .dataframe tbody tr th:only-of-type {\n",
       "        vertical-align: middle;\n",
       "    }\n",
       "\n",
       "    .dataframe tbody tr th {\n",
       "        vertical-align: top;\n",
       "    }\n",
       "\n",
       "    .dataframe thead th {\n",
       "        text-align: right;\n",
       "    }\n",
       "</style>\n",
       "<table border=\"1\" class=\"dataframe\">\n",
       "  <thead>\n",
       "    <tr style=\"text-align: right;\">\n",
       "      <th></th>\n",
       "      <th>target</th>\n",
       "    </tr>\n",
       "    <tr>\n",
       "      <th>isic_id</th>\n",
       "      <th></th>\n",
       "    </tr>\n",
       "  </thead>\n",
       "  <tbody>\n",
       "    <tr>\n",
       "      <th>ISIC_0015657</th>\n",
       "      <td>0.275422</td>\n",
       "    </tr>\n",
       "    <tr>\n",
       "      <th>ISIC_0015729</th>\n",
       "      <td>0.281745</td>\n",
       "    </tr>\n",
       "    <tr>\n",
       "      <th>ISIC_0015740</th>\n",
       "      <td>0.331883</td>\n",
       "    </tr>\n",
       "  </tbody>\n",
       "</table>\n",
       "</div>"
      ],
      "text/plain": [
       "                target\n",
       "isic_id               \n",
       "ISIC_0015657  0.275422\n",
       "ISIC_0015729  0.281745\n",
       "ISIC_0015740  0.331883"
      ]
     },
     "execution_count": 46,
     "metadata": {},
     "output_type": "execute_result"
    }
   ],
   "source": [
    "df_subm['target'] = estimator.predict_proba(df_test[feature_cols])[:, 1]\n",
    "\n",
    "df_subm.to_csv('submission.csv')\n",
    "df_subm.head()"
   ]
  }
 ],
 "metadata": {
  "kaggle": {
   "accelerator": "gpu",
   "dataSources": [
    {
     "databundleVersionId": 9094797,
     "sourceId": 63056,
     "sourceType": "competition"
    },
    {
     "datasetId": 5406640,
     "sourceId": 8982084,
     "sourceType": "datasetVersion"
    },
    {
     "datasetId": 5415918,
     "sourceId": 8991790,
     "sourceType": "datasetVersion"
    },
    {
     "sourceId": 186147615,
     "sourceType": "kernelVersion"
    },
    {
     "sourceId": 186149019,
     "sourceType": "kernelVersion"
    },
    {
     "sourceId": 187730674,
     "sourceType": "kernelVersion"
    },
    {
     "sourceId": 188543089,
     "sourceType": "kernelVersion"
    },
    {
     "sourceId": 188543756,
     "sourceType": "kernelVersion"
    },
    {
     "sourceId": 188602899,
     "sourceType": "kernelVersion"
    },
    {
     "sourceId": 188603204,
     "sourceType": "kernelVersion"
    },
    {
     "sourceId": 188603902,
     "sourceType": "kernelVersion"
    },
    {
     "sourceId": 190801726,
     "sourceType": "kernelVersion"
    },
    {
     "sourceId": 190815443,
     "sourceType": "kernelVersion"
    },
    {
     "sourceId": 190817588,
     "sourceType": "kernelVersion"
    }
   ],
   "dockerImageVersionId": 30747,
   "isGpuEnabled": true,
   "isInternetEnabled": false,
   "language": "python",
   "sourceType": "notebook"
  },
  "kernelspec": {
   "display_name": "Python 3",
   "language": "python",
   "name": "python3"
  },
  "language_info": {
   "codemirror_mode": {
    "name": "ipython",
    "version": 3
   },
   "file_extension": ".py",
   "mimetype": "text/x-python",
   "name": "python",
   "nbconvert_exporter": "python",
   "pygments_lexer": "ipython3",
   "version": "3.10.12"
  },
  "papermill": {
   "default_parameters": {},
   "duration": 376.526549,
   "end_time": "2024-08-20T17:33:36.069587",
   "environment_variables": {},
   "exception": null,
   "input_path": "__notebook__.ipynb",
   "output_path": "__notebook__.ipynb",
   "parameters": {},
   "start_time": "2024-08-20T17:27:19.543038",
   "version": "2.5.0"
  }
 },
 "nbformat": 4,
 "nbformat_minor": 5
}
