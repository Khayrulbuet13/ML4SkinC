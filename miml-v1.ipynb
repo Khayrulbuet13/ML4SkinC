{
 "cells": [
  {
   "cell_type": "code",
   "execution_count": 1,
   "id": "d12d479b",
   "metadata": {
    "_cell_guid": "b1076dfc-b9ad-4769-8c92-a6c4dae69d19",
    "_uuid": "8f2839f25d086af736a60e9eeb907d3b93b6e0e5",
    "execution": {
     "iopub.execute_input": "2024-07-09T20:55:42.107954Z",
     "iopub.status.busy": "2024-07-09T20:55:42.107267Z",
     "iopub.status.idle": "2024-07-09T20:55:42.112372Z",
     "shell.execute_reply": "2024-07-09T20:55:42.111709Z"
    },
    "papermill": {
     "duration": 0.013364,
     "end_time": "2024-07-09T20:55:42.114221",
     "exception": false,
     "start_time": "2024-07-09T20:55:42.100857",
     "status": "completed"
    },
    "tags": []
   },
   "outputs": [],
   "source": [
    "# # This Python 3 environment comes with many helpful analytics libraries installed\n",
    "# # It is defined by the kaggle/python Docker image: https://github.com/kaggle/docker-python\n",
    "# # For example, here's several helpful packages to load\n",
    "\n",
    "# import numpy as np # linear algebra\n",
    "# import pandas as pd # data processing, CSV file I/O (e.g. pd.read_csv)\n",
    "\n",
    "# # Input data files are available in the read-only \"../input/\" directory\n",
    "# # For example, running this (by clicking run or pressing Shift+Enter) will list all files under the input directory\n",
    "\n",
    "# import os\n",
    "# for dirname, _, filenames in os.walk('/kaggle/input'):\n",
    "#     for filename in filenames:\n",
    "#         print(os.path.join(dirname, filename))\n",
    "\n",
    "# # You can write up to 20GB to the current directory (/kaggle/working/) that gets preserved as output when you create a version using \"Save & Run All\" \n",
    "# # You can also write temporary files to /kaggle/temp/, but they won't be saved outside of the current session"
   ]
  },
  {
   "cell_type": "code",
   "execution_count": 2,
   "id": "afb12348",
   "metadata": {
    "execution": {
     "iopub.execute_input": "2024-07-09T20:55:42.124766Z",
     "iopub.status.busy": "2024-07-09T20:55:42.124473Z",
     "iopub.status.idle": "2024-07-09T20:55:48.239074Z",
     "shell.execute_reply": "2024-07-09T20:55:48.237973Z"
    },
    "papermill": {
     "duration": 6.122562,
     "end_time": "2024-07-09T20:55:48.241596",
     "exception": false,
     "start_time": "2024-07-09T20:55:42.119034",
     "status": "completed"
    },
    "tags": []
   },
   "outputs": [],
   "source": [
    "import os\n",
    "import h5py\n",
    "import pandas as pd\n",
    "import torch\n",
    "from torch.utils.data import Dataset, DataLoader\n",
    "from torchvision.transforms import transforms\n",
    "from PIL import Image\n",
    "import io\n",
    "import torch.nn.functional as F\n",
    "\n",
    "\n",
    "class MyDataset(Dataset):\n",
    "    def __init__(self, hdf5_file, csv_file, class_mapping, columns=None, transform=None):\n",
    "        \"\"\"\n",
    "        Initializes the dataset.\n",
    "        :param hdf5_file: Path to the HDF5 file containing image data.\n",
    "        :param csv_file: Path to the CSV file containing data.\n",
    "        :param class_mapping: Dictionary mapping class names to numeric values.\n",
    "        :param columns: List of column names to include as features. If None, all columns are included.\n",
    "        :param transform: Optional transform to be applied on a sample.\n",
    "        \"\"\"\n",
    "        self.data_frame = pd.read_csv(csv_file, low_memory=False, usecols=['isic_id'] + (columns if columns is not None else []))\n",
    "        self.hdf5_file = hdf5_file\n",
    "        self.transform = transform\n",
    "        self.class_mapping = class_mapping\n",
    "        self.hdf5 = h5py.File(self.hdf5_file, 'r')\n",
    "\n",
    "        # Handle missing values in the CSV data\n",
    "        if columns is not None:\n",
    "            self.csv_data = self.data_frame[columns].apply(lambda col: col.fillna(col.mean()), axis=0)\n",
    "        else:\n",
    "            self.csv_data = self.data_frame.apply(lambda col: col.fillna(col.mean()), axis=0)\n",
    "\n",
    "    def __len__(self):\n",
    "        return len(self.data_frame)\n",
    "\n",
    "    def __getitem__(self, idx):\n",
    "        img_name = self.data_frame.iloc[idx]['isic_id']\n",
    "        image_data = self.hdf5[img_name][()]\n",
    "        image = Image.open(io.BytesIO(image_data))\n",
    "        if self.transform:\n",
    "            image = self.transform(image)\n",
    "        csv_data_row = self.csv_data.iloc[idx]\n",
    "        csv = torch.tensor(csv_data_row.values, dtype=torch.float)\n",
    "        return image, csv, img_name\n",
    "\n",
    "    def __del__(self):\n",
    "        self.hdf5.close()  # Close the HDF5 file when the dataset object is deleted\n",
    "\n",
    "def get_dataloader(hdf5_file, test_csv, columns_to_use, class_mapping, val_transform=None, batch_size=32):\n",
    "    test_ds = MyDataset(hdf5_file=hdf5_file, csv_file=test_csv, class_mapping=class_mapping, columns=columns_to_use, transform=val_transform)\n",
    "    test_dl = DataLoader(test_ds, batch_size=batch_size, shuffle=False)\n",
    "    return test_dl\n",
    "\n",
    "\n",
    "\n",
    "import matplotlib.pyplot as plt\n",
    "\n",
    "def visualize_data(data_loader, num_images=5):\n",
    "    \"\"\"\n",
    "    Visualizes a few images and their corresponding CSV data from the DataLoader.\n",
    "    \n",
    "    :param data_loader: DataLoader from which to fetch data.\n",
    "    :param num_images: Number of images to display.\n",
    "    \"\"\"\n",
    "    # Fetch the first batch\n",
    "    data_iter = iter(data_loader)\n",
    "    images, csv_data, img_name = next(data_iter)\n",
    "\n",
    "    # Plot images and print corresponding CSV data\n",
    "    fig, axes = plt.subplots(1, num_images, figsize=(15, 5))\n",
    "    for i in range(num_images):\n",
    "        ax = axes[i]\n",
    "        image, csv_values = images[i], csv_data[i]\n",
    "        \n",
    "        # Handle different types of image tensor formats\n",
    "        if image.shape[0] == 3:  # Check for color channels\n",
    "            image = image.permute(1, 2, 0)  # Convert from CxHxW to HxWxC for visualization\n",
    "            ax.imshow(image.numpy())\n",
    "        else:\n",
    "            ax.imshow(image.numpy()[0], cmap='gray')  # For grayscale images\n",
    "        \n",
    "        ax.axis('off')\n",
    "        ax.set_title(f'Sample {i+1}')\n",
    "        \n",
    "        # Print CSV data\n",
    "        print(f'Sample {i+1} CSV Data:', csv_values.numpy())\n",
    "\n",
    "    plt.show()\n"
   ]
  },
  {
   "cell_type": "code",
   "execution_count": 3,
   "id": "7f873b36",
   "metadata": {
    "execution": {
     "iopub.execute_input": "2024-07-09T20:55:48.252697Z",
     "iopub.status.busy": "2024-07-09T20:55:48.251945Z",
     "iopub.status.idle": "2024-07-09T20:55:48.289449Z",
     "shell.execute_reply": "2024-07-09T20:55:48.288715Z"
    },
    "papermill": {
     "duration": 0.044986,
     "end_time": "2024-07-09T20:55:48.291336",
     "exception": false,
     "start_time": "2024-07-09T20:55:48.246350",
     "status": "completed"
    },
    "tags": []
   },
   "outputs": [],
   "source": [
    "kaggle_base_path = '/kaggle/input/isic-2024-challenge/'\n",
    "columns_to_use = ['age_approx', 'clin_size_long_diam_mm', 'tbp_lv_A',\n",
    "       'tbp_lv_Aext', 'tbp_lv_B', 'tbp_lv_Bext', 'tbp_lv_C', 'tbp_lv_Cext',\n",
    "       'tbp_lv_H', 'tbp_lv_Hext', 'tbp_lv_L', 'tbp_lv_Lext', 'tbp_lv_areaMM2',\n",
    "       'tbp_lv_area_perim_ratio', 'tbp_lv_color_std_mean', 'tbp_lv_deltaA',\n",
    "       'tbp_lv_deltaB', 'tbp_lv_deltaL', 'tbp_lv_deltaLB',\n",
    "       'tbp_lv_deltaLBnorm', 'tbp_lv_eccentricity', 'tbp_lv_minorAxisMM',\n",
    "       'tbp_lv_nevi_confidence', 'tbp_lv_norm_border', 'tbp_lv_norm_color',\n",
    "       'tbp_lv_perimeterMM', 'tbp_lv_radial_color_std_max', 'tbp_lv_stdL',\n",
    "       'tbp_lv_stdLExt', 'tbp_lv_symm_2axis', 'tbp_lv_symm_2axis_angle',\n",
    "       'tbp_lv_x', 'tbp_lv_y', 'tbp_lv_z']\n",
    "\n",
    "\n",
    "test_dl = get_dataloader(\n",
    "    hdf5_file=os.path.join(kaggle_base_path, \"test-image.hdf5\"),\n",
    "    test_csv=os.path.join(kaggle_base_path, \"test-metadata.csv\"),\n",
    "    columns_to_use = columns_to_use,\n",
    "    class_mapping={'benign': 0, 'malignant': 1},\n",
    "    val_transform=transforms.Compose([transforms.Resize((256, 256)), transforms.ToTensor()]),\n",
    "    batch_size=64,\n",
    ")\n",
    "\n",
    "\n",
    "\n",
    "# Call the function with the test DataLoader\n",
    "# visualize_data(test_dl, num_images=3)"
   ]
  },
  {
   "cell_type": "markdown",
   "id": "a592d464",
   "metadata": {
    "papermill": {
     "duration": 0.004234,
     "end_time": "2024-07-09T20:55:48.300166",
     "exception": false,
     "start_time": "2024-07-09T20:55:48.295932",
     "status": "completed"
    },
    "tags": []
   },
   "source": [
    "# Define Model"
   ]
  },
  {
   "cell_type": "code",
   "execution_count": 4,
   "id": "1f94365f",
   "metadata": {
    "execution": {
     "iopub.execute_input": "2024-07-09T20:55:48.310176Z",
     "iopub.status.busy": "2024-07-09T20:55:48.309911Z",
     "iopub.status.idle": "2024-07-09T20:55:48.380753Z",
     "shell.execute_reply": "2024-07-09T20:55:48.379997Z"
    },
    "papermill": {
     "duration": 0.077978,
     "end_time": "2024-07-09T20:55:48.382618",
     "exception": false,
     "start_time": "2024-07-09T20:55:48.304640",
     "status": "completed"
    },
    "tags": []
   },
   "outputs": [],
   "source": [
    "import torch\n",
    "import torch.nn as nn\n",
    "from torchvision.models import resnet18 as resnet\n",
    "\n",
    "class MLP(nn.Module):\n",
    "    def __init__(self, input_size, hidden_size, output_size):\n",
    "        super(MLP, self).__init__()\n",
    "        self.layers = nn.Sequential(\n",
    "            nn.Linear(input_size, hidden_size),\n",
    "            nn.ReLU(),\n",
    "            nn.Linear(hidden_size, output_size),\n",
    "            nn.ReLU(),\n",
    "        )\n",
    "\n",
    "    def forward(self, x):\n",
    "        return self.layers(x)\n",
    "\n",
    "class CombinedModel(nn.Module):\n",
    "    def __init__(self, mlp, n_classes, train_resnet=False):\n",
    "        super(CombinedModel, self).__init__()\n",
    "        self.resnet18 = resnet()\n",
    "        self.mlp = mlp\n",
    "        \n",
    "        # Configure trainability of ResNet layers\n",
    "        for param in self.resnet18.parameters():\n",
    "            param.requires_grad = train_resnet\n",
    "        \n",
    "        num_features_resnet = self.resnet18.fc.in_features\n",
    "        self.resnet18.fc = nn.Identity()  # Remove the final fully connected layer\n",
    "        \n",
    "        mlp_output_size = mlp.layers[-2].out_features\n",
    "        combined_input_size = num_features_resnet + mlp_output_size\n",
    "        \n",
    "        self.combined = nn.Sequential(\n",
    "            nn.Linear(combined_input_size, 128),\n",
    "            nn.BatchNorm1d(128),\n",
    "            nn.ReLU(),\n",
    "            nn.Linear(128, 16),\n",
    "            nn.BatchNorm1d(16),\n",
    "            nn.ReLU(),\n",
    "            nn.Linear(16, n_classes)\n",
    "        )\n",
    "\n",
    "    def forward(self, image, csv_data):\n",
    "        x1 = self.resnet18(image)\n",
    "        x2 = self.mlp(csv_data)\n",
    "        x = torch.cat((x1, x2), dim=1)\n",
    "        return self.combined(x)\n",
    "    \n",
    "    \n",
    "device = 'cuda' if torch.cuda.is_available() else 'cpu'\n"
   ]
  },
  {
   "cell_type": "code",
   "execution_count": 5,
   "id": "978f5e0b",
   "metadata": {
    "execution": {
     "iopub.execute_input": "2024-07-09T20:55:48.392753Z",
     "iopub.status.busy": "2024-07-09T20:55:48.392467Z",
     "iopub.status.idle": "2024-07-09T20:55:48.397001Z",
     "shell.execute_reply": "2024-07-09T20:55:48.396170Z"
    },
    "papermill": {
     "duration": 0.011823,
     "end_time": "2024-07-09T20:55:48.399004",
     "exception": false,
     "start_time": "2024-07-09T20:55:48.387181",
     "status": "completed"
    },
    "tags": []
   },
   "outputs": [
    {
     "name": "stdout",
     "output_type": "stream",
     "text": [
      "['__notebook__.ipynb']\n"
     ]
    }
   ],
   "source": [
    "import os \n",
    "print(os.listdir(\"/kaggle/working\"))"
   ]
  },
  {
   "cell_type": "code",
   "execution_count": 6,
   "id": "939673f6",
   "metadata": {
    "execution": {
     "iopub.execute_input": "2024-07-09T20:55:48.408967Z",
     "iopub.status.busy": "2024-07-09T20:55:48.408703Z",
     "iopub.status.idle": "2024-07-09T20:55:49.469779Z",
     "shell.execute_reply": "2024-07-09T20:55:49.468817Z"
    },
    "papermill": {
     "duration": 1.068606,
     "end_time": "2024-07-09T20:55:49.472054",
     "exception": false,
     "start_time": "2024-07-09T20:55:48.403448",
     "status": "completed"
    },
    "tags": []
   },
   "outputs": [],
   "source": [
    "import logging, os\n",
    "\n",
    "\n",
    "mlp = MLP(input_size=34, hidden_size=128, output_size=16)\n",
    "model = CombinedModel(mlp=mlp, n_classes=2, train_resnet=False).to(device)\n",
    "\n",
    "\n",
    "\n",
    "model_saved_path = os.path.join(\"/kaggle/input/miml-v2/miml_v1.pt\")\n",
    "if os.path.exists(model_saved_path):\n",
    "    model.load_state_dict(torch.load(model_saved_path, map_location=device))\n",
    "    logging.info(f'Model loaded from {model_saved_path}')\n",
    "\n"
   ]
  },
  {
   "cell_type": "code",
   "execution_count": 7,
   "id": "140d6b1f",
   "metadata": {
    "execution": {
     "iopub.execute_input": "2024-07-09T20:55:49.482851Z",
     "iopub.status.busy": "2024-07-09T20:55:49.482548Z",
     "iopub.status.idle": "2024-07-09T20:55:50.207880Z",
     "shell.execute_reply": "2024-07-09T20:55:50.207072Z"
    },
    "papermill": {
     "duration": 0.73328,
     "end_time": "2024-07-09T20:55:50.210167",
     "exception": false,
     "start_time": "2024-07-09T20:55:49.476887",
     "status": "completed"
    },
    "tags": []
   },
   "outputs": [],
   "source": [
    "model.eval()\n",
    "predictions = []\n",
    "# image_ids = []\n",
    "\n",
    "test_df = pd.read_csv(os.path.join(kaggle_base_path, \"test-metadata.csv\"))\n",
    "test_isic_ids = test_df['isic_id'].values\n",
    "\n",
    "with torch.no_grad():\n",
    "    for images, csv_data, ids in test_dl:\n",
    "        images = images.to(device)\n",
    "        csv_data = csv_data.to(device)\n",
    "        outputs = model(images, csv_data)\n",
    "        probabilities = F.softmax(outputs, dim=1)\n",
    "        class_one_prob = probabilities[:, 1].cpu().numpy()  # Class probabilities\n",
    "        predictions.extend(class_one_prob)\n",
    "#         image_ids.extend(ids)\n",
    "\n"
   ]
  },
  {
   "cell_type": "code",
   "execution_count": 8,
   "id": "78d1538a",
   "metadata": {
    "execution": {
     "iopub.execute_input": "2024-07-09T20:55:50.221052Z",
     "iopub.status.busy": "2024-07-09T20:55:50.220543Z",
     "iopub.status.idle": "2024-07-09T20:55:50.224223Z",
     "shell.execute_reply": "2024-07-09T20:55:50.223413Z"
    },
    "papermill": {
     "duration": 0.011112,
     "end_time": "2024-07-09T20:55:50.226189",
     "exception": false,
     "start_time": "2024-07-09T20:55:50.215077",
     "status": "completed"
    },
    "tags": []
   },
   "outputs": [],
   "source": [
    "# df_sub = pd.read_csv(\"/kaggle/input/isic-2024-challenge/sample_submission.csv\")\n",
    "# df_sub[\"target\"] = predictions\n",
    "# df_sub"
   ]
  },
  {
   "cell_type": "code",
   "execution_count": 9,
   "id": "45866efd",
   "metadata": {
    "execution": {
     "iopub.execute_input": "2024-07-09T20:55:50.236545Z",
     "iopub.status.busy": "2024-07-09T20:55:50.236004Z",
     "iopub.status.idle": "2024-07-09T20:55:50.239480Z",
     "shell.execute_reply": "2024-07-09T20:55:50.238722Z"
    },
    "papermill": {
     "duration": 0.010573,
     "end_time": "2024-07-09T20:55:50.241344",
     "exception": false,
     "start_time": "2024-07-09T20:55:50.230771",
     "status": "completed"
    },
    "tags": []
   },
   "outputs": [],
   "source": [
    "# df_sub.to_csv(\"submission.csv\", index=False)"
   ]
  },
  {
   "cell_type": "code",
   "execution_count": 10,
   "id": "49ba492b",
   "metadata": {
    "execution": {
     "iopub.execute_input": "2024-07-09T20:55:50.251474Z",
     "iopub.status.busy": "2024-07-09T20:55:50.251042Z",
     "iopub.status.idle": "2024-07-09T20:55:50.259445Z",
     "shell.execute_reply": "2024-07-09T20:55:50.258582Z"
    },
    "papermill": {
     "duration": 0.015559,
     "end_time": "2024-07-09T20:55:50.261295",
     "exception": false,
     "start_time": "2024-07-09T20:55:50.245736",
     "status": "completed"
    },
    "tags": []
   },
   "outputs": [
    {
     "name": "stdout",
     "output_type": "stream",
     "text": [
      "Predictions saved to submission.csv\n"
     ]
    }
   ],
   "source": [
    "# Save predictions to CSV\n",
    "df = pd.DataFrame({\n",
    "    'isic_id': test_isic_ids,\n",
    "    'target': predictions\n",
    "})\n",
    "df.to_csv('submission.csv', index=False)\n",
    "print(\"Predictions saved to submission.csv\")\n"
   ]
  },
  {
   "cell_type": "code",
   "execution_count": 11,
   "id": "009bb490",
   "metadata": {
    "execution": {
     "iopub.execute_input": "2024-07-09T20:55:50.271867Z",
     "iopub.status.busy": "2024-07-09T20:55:50.271156Z",
     "iopub.status.idle": "2024-07-09T20:55:50.275943Z",
     "shell.execute_reply": "2024-07-09T20:55:50.275137Z"
    },
    "papermill": {
     "duration": 0.012035,
     "end_time": "2024-07-09T20:55:50.277891",
     "exception": false,
     "start_time": "2024-07-09T20:55:50.265856",
     "status": "completed"
    },
    "tags": []
   },
   "outputs": [],
   "source": [
    "# import pandas as pd\n",
    "\n",
    "\n",
    "# # Load the test metadata to determine the expected number of rows\n",
    "# test_metadata = pd.read_csv(os.path.join(kaggle_base_path, \"test-metadata.csv\"))\n",
    "# expected_rows = len(test_metadata)\n",
    "\n",
    "# # Load your predictions DataFrame\n",
    "# df = pd.read_csv('/kaggle/working/submission.csv')\n",
    "\n",
    "# # Check for the correct number of columns\n",
    "# if df.columns.tolist() != ['isic_id', 'target']:\n",
    "#     print(\"Error: The column names or their order is incorrect.\")\n",
    "\n",
    "# # Check for the correct number of rows (replace 10000 with the expected number of rows)\n",
    "# if len(df) != expected_rows:\n",
    "#     print(f\"Error: There should be exactly {expected_rows} rows but found {len(df)}.\")\n",
    "\n",
    "# # Check for any missing values\n",
    "# if df.isna().any().any():\n",
    "#     print(\"Error: There are empty values in your DataFrame.\")\n",
    "\n",
    "# # Ensure that all 'target' values are probabilities between 0 and 1\n",
    "# if not df['target'].between(0, 1).all():\n",
    "#     print(\"Error: Target values should be between 0 and 1.\")\n",
    "\n",
    "# # Save the DataFrame correctly\n",
    "# df.to_csv('/kaggle/working/submission.csv', index=False)\n",
    "# print(\"Submission saved to submission.csv\")\n"
   ]
  },
  {
   "cell_type": "code",
   "execution_count": 12,
   "id": "77855c88",
   "metadata": {
    "execution": {
     "iopub.execute_input": "2024-07-09T20:55:50.288363Z",
     "iopub.status.busy": "2024-07-09T20:55:50.287689Z",
     "iopub.status.idle": "2024-07-09T20:55:50.302667Z",
     "shell.execute_reply": "2024-07-09T20:55:50.301831Z"
    },
    "papermill": {
     "duration": 0.022097,
     "end_time": "2024-07-09T20:55:50.304485",
     "exception": false,
     "start_time": "2024-07-09T20:55:50.282388",
     "status": "completed"
    },
    "tags": []
   },
   "outputs": [
    {
     "data": {
      "text/html": [
       "<div>\n",
       "<style scoped>\n",
       "    .dataframe tbody tr th:only-of-type {\n",
       "        vertical-align: middle;\n",
       "    }\n",
       "\n",
       "    .dataframe tbody tr th {\n",
       "        vertical-align: top;\n",
       "    }\n",
       "\n",
       "    .dataframe thead th {\n",
       "        text-align: right;\n",
       "    }\n",
       "</style>\n",
       "<table border=\"1\" class=\"dataframe\">\n",
       "  <thead>\n",
       "    <tr style=\"text-align: right;\">\n",
       "      <th></th>\n",
       "      <th>isic_id</th>\n",
       "      <th>target</th>\n",
       "    </tr>\n",
       "  </thead>\n",
       "  <tbody>\n",
       "    <tr>\n",
       "      <th>0</th>\n",
       "      <td>ISIC_0015657</td>\n",
       "      <td>0.998294</td>\n",
       "    </tr>\n",
       "    <tr>\n",
       "      <th>1</th>\n",
       "      <td>ISIC_0015729</td>\n",
       "      <td>0.332079</td>\n",
       "    </tr>\n",
       "    <tr>\n",
       "      <th>2</th>\n",
       "      <td>ISIC_0015740</td>\n",
       "      <td>1.000000</td>\n",
       "    </tr>\n",
       "  </tbody>\n",
       "</table>\n",
       "</div>"
      ],
      "text/plain": [
       "        isic_id    target\n",
       "0  ISIC_0015657  0.998294\n",
       "1  ISIC_0015729  0.332079\n",
       "2  ISIC_0015740  1.000000"
      ]
     },
     "execution_count": 12,
     "metadata": {},
     "output_type": "execute_result"
    }
   ],
   "source": [
    "import pandas as pd\n",
    "\n",
    "df = pd.read_csv('submission.csv')\n",
    "df.head(100)\n"
   ]
  },
  {
   "cell_type": "code",
   "execution_count": null,
   "id": "0154b705",
   "metadata": {
    "papermill": {
     "duration": 0.004895,
     "end_time": "2024-07-09T20:55:50.314191",
     "exception": false,
     "start_time": "2024-07-09T20:55:50.309296",
     "status": "completed"
    },
    "tags": []
   },
   "outputs": [],
   "source": []
  }
 ],
 "metadata": {
  "kaggle": {
   "accelerator": "gpu",
   "dataSources": [
    {
     "databundleVersionId": 8940774,
     "sourceId": 63056,
     "sourceType": "competition"
    },
    {
     "datasetId": 5357038,
     "sourceId": 8909407,
     "sourceType": "datasetVersion"
    }
   ],
   "dockerImageVersionId": 30733,
   "isGpuEnabled": true,
   "isInternetEnabled": false,
   "language": "python",
   "sourceType": "notebook"
  },
  "kernelspec": {
   "display_name": "Python 3",
   "language": "python",
   "name": "python3"
  },
  "language_info": {
   "codemirror_mode": {
    "name": "ipython",
    "version": 3
   },
   "file_extension": ".py",
   "mimetype": "text/x-python",
   "name": "python",
   "nbconvert_exporter": "python",
   "pygments_lexer": "ipython3",
   "version": "3.10.13"
  },
  "papermill": {
   "default_parameters": {},
   "duration": 13.241726,
   "end_time": "2024-07-09T20:55:52.506748",
   "environment_variables": {},
   "exception": null,
   "input_path": "__notebook__.ipynb",
   "output_path": "__notebook__.ipynb",
   "parameters": {},
   "start_time": "2024-07-09T20:55:39.265022",
   "version": "2.5.0"
  }
 },
 "nbformat": 4,
 "nbformat_minor": 5
}
